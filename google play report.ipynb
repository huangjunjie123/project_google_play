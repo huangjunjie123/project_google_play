{
 "cells": [
  {
   "cell_type": "markdown",
   "metadata": {},
   "source": [
    "GOOGLE PLAY APP数据分析"
   ]
  },
  {
   "cell_type": "code",
   "execution_count": null,
   "metadata": {},
   "outputs": [],
   "source": [
    "目录：\n",
    "一、分析背景与目的\n",
    "二、技术、工具及数据来源\n",
    "三、图表分析\n",
    "四、结论分析和建议"
   ]
  },
  {
   "attachments": {},
   "cell_type": "markdown",
   "metadata": {},
   "source": [
    "一、分析背景与目的\n",
    "\n",
    "背景：Google商城的app不同类别不同安装大小和适配手机版本评分不同，下载量也有很大差异。\n",
    "\n",
    "目的：通过分析数据分布和数据之间的关系得到有关app的一些信息，并且得出结论符合哪些条件的app较受欢迎\n",
    "\n",
    "\n",
    "包括了：\n",
    "\n",
    "\n",
    "1.各类别app占比情况\n",
    "\n",
    "2.用户评分分布情况\n",
    "\n",
    "3.各类别app用户评分分布情况\n",
    "\n",
    "4.评分变化和时间趋势\n",
    "\n",
    "5.免/付费app数量变化趋势\n",
    "\n",
    "6.免/付费最受欢迎app类别\n",
    "\n",
    "7.App数量 免费与付费的对比\n",
    "\n",
    "8.Android版本数量分布和随时间变化\n",
    "\n",
    "9.各版本免/付费app的装机量\n",
    "\n"
   ]
  },
  {
   "cell_type": "markdown",
   "metadata": {},
   "source": [
    "二、技术、工具及数据来源：\n",
    "\n",
    "本次数据分析主要用的是python，其中数据清洗使用的是pandas和numpy库，\n",
    "\n",
    "并使用matplotlib和seaborn进行数据可视化，使用到的图表类型有饼图、柱状图、密度分布图、箱型图、散点图、小提琴图"
   ]
  },
  {
   "cell_type": "markdown",
   "metadata": {},
   "source": [
    "数据来源\n",
    "\n",
    "https://www.kaggle.com/lava18/google-play-store-apps"
   ]
  },
  {
   "cell_type": "markdown",
   "metadata": {},
   "source": [
    "三、图表分析"
   ]
  },
  {
   "cell_type": "markdown",
   "metadata": {},
   "source": [
    "3.1数据清洗"
   ]
  },
  {
   "cell_type": "code",
   "execution_count": 1,
   "metadata": {},
   "outputs": [],
   "source": [
    "import numpy as np\n",
    "import pandas as pd\n",
    "import matplotlib.pyplot as plt\n",
    "import seaborn as sns"
   ]
  },
  {
   "cell_type": "code",
   "execution_count": 2,
   "metadata": {},
   "outputs": [],
   "source": [
    "from matplotlib.font_manager import FontProperties\n",
    "myfont=FontProperties(fname=r'C:\\Windows\\Fonts\\simhei.ttf',size=14)\n",
    "sns.set(font=myfont.get_name())"
   ]
  },
  {
   "cell_type": "code",
   "execution_count": 3,
   "metadata": {},
   "outputs": [],
   "source": [
    "data = pd.read_csv(r'D:\\google-play-store-apps\\googleplaystore.csv')"
   ]
  },
  {
   "cell_type": "code",
   "execution_count": 4,
   "metadata": {},
   "outputs": [
    {
     "data": {
      "text/html": [
       "<div>\n",
       "<style scoped>\n",
       "    .dataframe tbody tr th:only-of-type {\n",
       "        vertical-align: middle;\n",
       "    }\n",
       "\n",
       "    .dataframe tbody tr th {\n",
       "        vertical-align: top;\n",
       "    }\n",
       "\n",
       "    .dataframe thead th {\n",
       "        text-align: right;\n",
       "    }\n",
       "</style>\n",
       "<table border=\"1\" class=\"dataframe\">\n",
       "  <thead>\n",
       "    <tr style=\"text-align: right;\">\n",
       "      <th></th>\n",
       "      <th>App</th>\n",
       "      <th>Category</th>\n",
       "      <th>Rating</th>\n",
       "      <th>Reviews</th>\n",
       "      <th>Size</th>\n",
       "      <th>Installs</th>\n",
       "      <th>Type</th>\n",
       "      <th>Price</th>\n",
       "      <th>Content Rating</th>\n",
       "      <th>Genres</th>\n",
       "      <th>Last Updated</th>\n",
       "      <th>Current Ver</th>\n",
       "      <th>Android Ver</th>\n",
       "    </tr>\n",
       "  </thead>\n",
       "  <tbody>\n",
       "    <tr>\n",
       "      <th>0</th>\n",
       "      <td>Photo Editor &amp; Candy Camera &amp; Grid &amp; ScrapBook</td>\n",
       "      <td>ART_AND_DESIGN</td>\n",
       "      <td>4.1</td>\n",
       "      <td>159</td>\n",
       "      <td>19M</td>\n",
       "      <td>10,000+</td>\n",
       "      <td>Free</td>\n",
       "      <td>0</td>\n",
       "      <td>Everyone</td>\n",
       "      <td>Art &amp; Design</td>\n",
       "      <td>January 7, 2018</td>\n",
       "      <td>1.0.0</td>\n",
       "      <td>4.0.3 and up</td>\n",
       "    </tr>\n",
       "    <tr>\n",
       "      <th>1</th>\n",
       "      <td>Coloring book moana</td>\n",
       "      <td>ART_AND_DESIGN</td>\n",
       "      <td>3.9</td>\n",
       "      <td>967</td>\n",
       "      <td>14M</td>\n",
       "      <td>500,000+</td>\n",
       "      <td>Free</td>\n",
       "      <td>0</td>\n",
       "      <td>Everyone</td>\n",
       "      <td>Art &amp; Design;Pretend Play</td>\n",
       "      <td>January 15, 2018</td>\n",
       "      <td>2.0.0</td>\n",
       "      <td>4.0.3 and up</td>\n",
       "    </tr>\n",
       "    <tr>\n",
       "      <th>2</th>\n",
       "      <td>U Launcher Lite – FREE Live Cool Themes, Hide ...</td>\n",
       "      <td>ART_AND_DESIGN</td>\n",
       "      <td>4.7</td>\n",
       "      <td>87510</td>\n",
       "      <td>8.7M</td>\n",
       "      <td>5,000,000+</td>\n",
       "      <td>Free</td>\n",
       "      <td>0</td>\n",
       "      <td>Everyone</td>\n",
       "      <td>Art &amp; Design</td>\n",
       "      <td>August 1, 2018</td>\n",
       "      <td>1.2.4</td>\n",
       "      <td>4.0.3 and up</td>\n",
       "    </tr>\n",
       "    <tr>\n",
       "      <th>3</th>\n",
       "      <td>Sketch - Draw &amp; Paint</td>\n",
       "      <td>ART_AND_DESIGN</td>\n",
       "      <td>4.5</td>\n",
       "      <td>215644</td>\n",
       "      <td>25M</td>\n",
       "      <td>50,000,000+</td>\n",
       "      <td>Free</td>\n",
       "      <td>0</td>\n",
       "      <td>Teen</td>\n",
       "      <td>Art &amp; Design</td>\n",
       "      <td>June 8, 2018</td>\n",
       "      <td>Varies with device</td>\n",
       "      <td>4.2 and up</td>\n",
       "    </tr>\n",
       "    <tr>\n",
       "      <th>4</th>\n",
       "      <td>Pixel Draw - Number Art Coloring Book</td>\n",
       "      <td>ART_AND_DESIGN</td>\n",
       "      <td>4.3</td>\n",
       "      <td>967</td>\n",
       "      <td>2.8M</td>\n",
       "      <td>100,000+</td>\n",
       "      <td>Free</td>\n",
       "      <td>0</td>\n",
       "      <td>Everyone</td>\n",
       "      <td>Art &amp; Design;Creativity</td>\n",
       "      <td>June 20, 2018</td>\n",
       "      <td>1.1</td>\n",
       "      <td>4.4 and up</td>\n",
       "    </tr>\n",
       "  </tbody>\n",
       "</table>\n",
       "</div>"
      ],
      "text/plain": [
       "                                                 App        Category  Rating  \\\n",
       "0     Photo Editor & Candy Camera & Grid & ScrapBook  ART_AND_DESIGN     4.1   \n",
       "1                                Coloring book moana  ART_AND_DESIGN     3.9   \n",
       "2  U Launcher Lite – FREE Live Cool Themes, Hide ...  ART_AND_DESIGN     4.7   \n",
       "3                              Sketch - Draw & Paint  ART_AND_DESIGN     4.5   \n",
       "4              Pixel Draw - Number Art Coloring Book  ART_AND_DESIGN     4.3   \n",
       "\n",
       "  Reviews  Size     Installs  Type Price Content Rating  \\\n",
       "0     159   19M      10,000+  Free     0       Everyone   \n",
       "1     967   14M     500,000+  Free     0       Everyone   \n",
       "2   87510  8.7M   5,000,000+  Free     0       Everyone   \n",
       "3  215644   25M  50,000,000+  Free     0           Teen   \n",
       "4     967  2.8M     100,000+  Free     0       Everyone   \n",
       "\n",
       "                      Genres      Last Updated         Current Ver  \\\n",
       "0               Art & Design   January 7, 2018               1.0.0   \n",
       "1  Art & Design;Pretend Play  January 15, 2018               2.0.0   \n",
       "2               Art & Design    August 1, 2018               1.2.4   \n",
       "3               Art & Design      June 8, 2018  Varies with device   \n",
       "4    Art & Design;Creativity     June 20, 2018                 1.1   \n",
       "\n",
       "    Android Ver  \n",
       "0  4.0.3 and up  \n",
       "1  4.0.3 and up  \n",
       "2  4.0.3 and up  \n",
       "3    4.2 and up  \n",
       "4    4.4 and up  "
      ]
     },
     "execution_count": 4,
     "metadata": {},
     "output_type": "execute_result"
    }
   ],
   "source": [
    "data.head()"
   ]
  },
  {
   "cell_type": "code",
   "execution_count": 5,
   "metadata": {},
   "outputs": [],
   "source": [
    "#数据处理"
   ]
  },
  {
   "cell_type": "code",
   "execution_count": 6,
   "metadata": {},
   "outputs": [],
   "source": [
    "dt = data.copy()"
   ]
  },
  {
   "cell_type": "code",
   "execution_count": 7,
   "metadata": {},
   "outputs": [
    {
     "name": "stdout",
     "output_type": "stream",
     "text": [
      "<class 'pandas.core.frame.DataFrame'>\n",
      "RangeIndex: 10841 entries, 0 to 10840\n",
      "Data columns (total 13 columns):\n",
      "App               10841 non-null object\n",
      "Category          10841 non-null object\n",
      "Rating            9367 non-null float64\n",
      "Reviews           10841 non-null object\n",
      "Size              10841 non-null object\n",
      "Installs          10841 non-null object\n",
      "Type              10840 non-null object\n",
      "Price             10841 non-null object\n",
      "Content Rating    10840 non-null object\n",
      "Genres            10841 non-null object\n",
      "Last Updated      10841 non-null object\n",
      "Current Ver       10833 non-null object\n",
      "Android Ver       10838 non-null object\n",
      "dtypes: float64(1), object(12)\n",
      "memory usage: 592.9+ KB\n"
     ]
    }
   ],
   "source": [
    "dt.info()"
   ]
  },
  {
   "cell_type": "code",
   "execution_count": 8,
   "metadata": {},
   "outputs": [],
   "source": [
    "#因为app名称各不相同，去除该列"
   ]
  },
  {
   "cell_type": "code",
   "execution_count": 9,
   "metadata": {},
   "outputs": [],
   "source": [
    "dt.drop('App',axis=1,inplace=True)"
   ]
  },
  {
   "cell_type": "code",
   "execution_count": 10,
   "metadata": {},
   "outputs": [],
   "source": [
    "#把日期中的年份提取出来"
   ]
  },
  {
   "cell_type": "code",
   "execution_count": 11,
   "metadata": {},
   "outputs": [],
   "source": [
    "#  dt['Last Updated'].map(lambda x:x.split(',')[1])     这里报错，提示IndexError: list index out of range"
   ]
  },
  {
   "cell_type": "code",
   "execution_count": 12,
   "metadata": {},
   "outputs": [],
   "source": [
    "#出错，可能是有的日期格式不对，查看是哪个"
   ]
  },
  {
   "cell_type": "code",
   "execution_count": 13,
   "metadata": {},
   "outputs": [
    {
     "name": "stdout",
     "output_type": "stream",
     "text": [
      "10472\n"
     ]
    }
   ],
   "source": [
    "q = []\n",
    "for i in range(10841):\n",
    "    try:\n",
    "        dt['Last Updated'][i].split(',')[1]\n",
    "    except IndexError:\n",
    "        print(i)"
   ]
  },
  {
   "cell_type": "code",
   "execution_count": 14,
   "metadata": {},
   "outputs": [],
   "source": [
    "#确定了 这一行出现问题，看一下这行数据是什么"
   ]
  },
  {
   "cell_type": "code",
   "execution_count": 15,
   "metadata": {},
   "outputs": [
    {
     "data": {
      "text/plain": [
       "Category                        1.9\n",
       "Rating                           19\n",
       "Reviews                        3.0M\n",
       "Size                         1,000+\n",
       "Installs                       Free\n",
       "Type                              0\n",
       "Price                      Everyone\n",
       "Content Rating                  NaN\n",
       "Genres            February 11, 2018\n",
       "Last Updated                 1.0.19\n",
       "Current Ver              4.0 and up\n",
       "Android Ver                     NaN\n",
       "Name: 10472, dtype: object"
      ]
     },
     "execution_count": 15,
     "metadata": {},
     "output_type": "execute_result"
    }
   ],
   "source": [
    "dt.iloc[10472]"
   ]
  },
  {
   "cell_type": "code",
   "execution_count": 16,
   "metadata": {},
   "outputs": [],
   "source": [
    "#原来这行数据错位了，调整一下"
   ]
  },
  {
   "cell_type": "code",
   "execution_count": 17,
   "metadata": {},
   "outputs": [],
   "source": [
    "dt.iloc[10472] = ['NaN',1.9,19,'3.0M','1,000+','Free',0,'Everyone','NaN','February 11, 2018','1.0.19','4.0 and up']"
   ]
  },
  {
   "cell_type": "code",
   "execution_count": 18,
   "metadata": {},
   "outputs": [
    {
     "data": {
      "text/plain": [
       "Category                        NaN\n",
       "Rating                          1.9\n",
       "Reviews                          19\n",
       "Size                           3.0M\n",
       "Installs                     1,000+\n",
       "Type                           Free\n",
       "Price                             0\n",
       "Content Rating             Everyone\n",
       "Genres                          NaN\n",
       "Last Updated      February 11, 2018\n",
       "Current Ver                  1.0.19\n",
       "Android Ver              4.0 and up\n",
       "Name: 10472, dtype: object"
      ]
     },
     "execution_count": 18,
     "metadata": {},
     "output_type": "execute_result"
    }
   ],
   "source": [
    "dt.iloc[10472]"
   ]
  },
  {
   "cell_type": "code",
   "execution_count": 19,
   "metadata": {},
   "outputs": [],
   "source": [
    "#再次进行年份的提取"
   ]
  },
  {
   "cell_type": "code",
   "execution_count": 20,
   "metadata": {},
   "outputs": [],
   "source": [
    "dt['year'] = dt['Last Updated'].map(lambda x:x.split(',')[1])"
   ]
  },
  {
   "cell_type": "code",
   "execution_count": 21,
   "metadata": {},
   "outputs": [],
   "source": [
    "#这次没有报错"
   ]
  },
  {
   "cell_type": "code",
   "execution_count": 22,
   "metadata": {},
   "outputs": [],
   "source": [
    "#把Android版本号和手机版本号保留到前面几位"
   ]
  },
  {
   "cell_type": "code",
   "execution_count": 23,
   "metadata": {},
   "outputs": [],
   "source": [
    "dt['phone_ver']=dt['Android Ver'].map(lambda x: str(x)[:3])"
   ]
  },
  {
   "cell_type": "code",
   "execution_count": 24,
   "metadata": {},
   "outputs": [],
   "source": [
    "dt['game_ver']=dt['Current Ver'].map(lambda x: str(x)[:3])"
   ]
  },
  {
   "cell_type": "code",
   "execution_count": 25,
   "metadata": {},
   "outputs": [],
   "source": [
    "#价格保留数字"
   ]
  },
  {
   "cell_type": "code",
   "execution_count": 26,
   "metadata": {},
   "outputs": [],
   "source": [
    "dt['price_num']=dt['Price'].str.strip('$')"
   ]
  },
  {
   "cell_type": "code",
   "execution_count": 27,
   "metadata": {},
   "outputs": [],
   "source": [
    "dt['price_num']=dt['price_num'].map(lambda x:float(x))"
   ]
  },
  {
   "cell_type": "code",
   "execution_count": 28,
   "metadata": {},
   "outputs": [],
   "source": [
    "#把installs转化为数字"
   ]
  },
  {
   "cell_type": "code",
   "execution_count": 29,
   "metadata": {},
   "outputs": [],
   "source": [
    "a=dt.Installs.str.strip('+').str.replace(',','')\n",
    "dt['Install_num']=a.map(lambda x: int(x))"
   ]
  },
  {
   "cell_type": "code",
   "execution_count": 30,
   "metadata": {},
   "outputs": [],
   "source": [
    "#size也转化成数字类型"
   ]
  },
  {
   "cell_type": "code",
   "execution_count": 31,
   "metadata": {},
   "outputs": [],
   "source": [
    "def f(x):\n",
    "    if 'k' in x:\n",
    "        x=x.strip('k')\n",
    "        x=float(x)/1024\n",
    "    elif 'M' in x:\n",
    "        x=x.strip('M')\n",
    "        x=float(x)\n",
    "    return x"
   ]
  },
  {
   "cell_type": "code",
   "execution_count": 32,
   "metadata": {},
   "outputs": [],
   "source": [
    "dt['size_of_app']=dt.Size.map(f)"
   ]
  },
  {
   "cell_type": "code",
   "execution_count": 33,
   "metadata": {},
   "outputs": [],
   "source": [
    "dt['size_of_app']=dt['size_of_app'].map(lambda x: str(x)[:4] )"
   ]
  },
  {
   "cell_type": "code",
   "execution_count": 34,
   "metadata": {},
   "outputs": [],
   "source": [
    "dt=dt.rename({'size_of_app':'size_of_app(by_M)'},axis=1)"
   ]
  },
  {
   "cell_type": "code",
   "execution_count": 35,
   "metadata": {},
   "outputs": [],
   "source": [
    "dt.drop(['Size','Installs','Last Updated','Current Ver','Android Ver','Price'],axis=1,inplace=True)"
   ]
  },
  {
   "cell_type": "code",
   "execution_count": 36,
   "metadata": {},
   "outputs": [
    {
     "data": {
      "text/html": [
       "<div>\n",
       "<style scoped>\n",
       "    .dataframe tbody tr th:only-of-type {\n",
       "        vertical-align: middle;\n",
       "    }\n",
       "\n",
       "    .dataframe tbody tr th {\n",
       "        vertical-align: top;\n",
       "    }\n",
       "\n",
       "    .dataframe thead th {\n",
       "        text-align: right;\n",
       "    }\n",
       "</style>\n",
       "<table border=\"1\" class=\"dataframe\">\n",
       "  <thead>\n",
       "    <tr style=\"text-align: right;\">\n",
       "      <th></th>\n",
       "      <th>Category</th>\n",
       "      <th>Rating</th>\n",
       "      <th>Reviews</th>\n",
       "      <th>Type</th>\n",
       "      <th>Content Rating</th>\n",
       "      <th>Genres</th>\n",
       "      <th>year</th>\n",
       "      <th>phone_ver</th>\n",
       "      <th>game_ver</th>\n",
       "      <th>price_num</th>\n",
       "      <th>Install_num</th>\n",
       "      <th>size_of_app(by_M)</th>\n",
       "    </tr>\n",
       "  </thead>\n",
       "  <tbody>\n",
       "    <tr>\n",
       "      <th>0</th>\n",
       "      <td>ART_AND_DESIGN</td>\n",
       "      <td>4.1</td>\n",
       "      <td>159</td>\n",
       "      <td>Free</td>\n",
       "      <td>Everyone</td>\n",
       "      <td>Art &amp; Design</td>\n",
       "      <td>2018</td>\n",
       "      <td>4.0</td>\n",
       "      <td>1.0</td>\n",
       "      <td>0.0</td>\n",
       "      <td>10000</td>\n",
       "      <td>19.0</td>\n",
       "    </tr>\n",
       "    <tr>\n",
       "      <th>1</th>\n",
       "      <td>ART_AND_DESIGN</td>\n",
       "      <td>3.9</td>\n",
       "      <td>967</td>\n",
       "      <td>Free</td>\n",
       "      <td>Everyone</td>\n",
       "      <td>Art &amp; Design;Pretend Play</td>\n",
       "      <td>2018</td>\n",
       "      <td>4.0</td>\n",
       "      <td>2.0</td>\n",
       "      <td>0.0</td>\n",
       "      <td>500000</td>\n",
       "      <td>14.0</td>\n",
       "    </tr>\n",
       "    <tr>\n",
       "      <th>2</th>\n",
       "      <td>ART_AND_DESIGN</td>\n",
       "      <td>4.7</td>\n",
       "      <td>87510</td>\n",
       "      <td>Free</td>\n",
       "      <td>Everyone</td>\n",
       "      <td>Art &amp; Design</td>\n",
       "      <td>2018</td>\n",
       "      <td>4.0</td>\n",
       "      <td>1.2</td>\n",
       "      <td>0.0</td>\n",
       "      <td>5000000</td>\n",
       "      <td>8.7</td>\n",
       "    </tr>\n",
       "    <tr>\n",
       "      <th>3</th>\n",
       "      <td>ART_AND_DESIGN</td>\n",
       "      <td>4.5</td>\n",
       "      <td>215644</td>\n",
       "      <td>Free</td>\n",
       "      <td>Teen</td>\n",
       "      <td>Art &amp; Design</td>\n",
       "      <td>2018</td>\n",
       "      <td>4.2</td>\n",
       "      <td>Var</td>\n",
       "      <td>0.0</td>\n",
       "      <td>50000000</td>\n",
       "      <td>25.0</td>\n",
       "    </tr>\n",
       "    <tr>\n",
       "      <th>4</th>\n",
       "      <td>ART_AND_DESIGN</td>\n",
       "      <td>4.3</td>\n",
       "      <td>967</td>\n",
       "      <td>Free</td>\n",
       "      <td>Everyone</td>\n",
       "      <td>Art &amp; Design;Creativity</td>\n",
       "      <td>2018</td>\n",
       "      <td>4.4</td>\n",
       "      <td>1.1</td>\n",
       "      <td>0.0</td>\n",
       "      <td>100000</td>\n",
       "      <td>2.8</td>\n",
       "    </tr>\n",
       "    <tr>\n",
       "      <th>5</th>\n",
       "      <td>ART_AND_DESIGN</td>\n",
       "      <td>4.4</td>\n",
       "      <td>167</td>\n",
       "      <td>Free</td>\n",
       "      <td>Everyone</td>\n",
       "      <td>Art &amp; Design</td>\n",
       "      <td>2017</td>\n",
       "      <td>2.3</td>\n",
       "      <td>1.0</td>\n",
       "      <td>0.0</td>\n",
       "      <td>50000</td>\n",
       "      <td>5.6</td>\n",
       "    </tr>\n",
       "    <tr>\n",
       "      <th>6</th>\n",
       "      <td>ART_AND_DESIGN</td>\n",
       "      <td>3.8</td>\n",
       "      <td>178</td>\n",
       "      <td>Free</td>\n",
       "      <td>Everyone</td>\n",
       "      <td>Art &amp; Design</td>\n",
       "      <td>2018</td>\n",
       "      <td>4.0</td>\n",
       "      <td>1.1</td>\n",
       "      <td>0.0</td>\n",
       "      <td>50000</td>\n",
       "      <td>19.0</td>\n",
       "    </tr>\n",
       "    <tr>\n",
       "      <th>7</th>\n",
       "      <td>ART_AND_DESIGN</td>\n",
       "      <td>4.1</td>\n",
       "      <td>36815</td>\n",
       "      <td>Free</td>\n",
       "      <td>Everyone</td>\n",
       "      <td>Art &amp; Design</td>\n",
       "      <td>2018</td>\n",
       "      <td>4.2</td>\n",
       "      <td>6.1</td>\n",
       "      <td>0.0</td>\n",
       "      <td>1000000</td>\n",
       "      <td>29.0</td>\n",
       "    </tr>\n",
       "    <tr>\n",
       "      <th>8</th>\n",
       "      <td>ART_AND_DESIGN</td>\n",
       "      <td>4.4</td>\n",
       "      <td>13791</td>\n",
       "      <td>Free</td>\n",
       "      <td>Everyone</td>\n",
       "      <td>Art &amp; Design</td>\n",
       "      <td>2017</td>\n",
       "      <td>3.0</td>\n",
       "      <td>2.9</td>\n",
       "      <td>0.0</td>\n",
       "      <td>1000000</td>\n",
       "      <td>33.0</td>\n",
       "    </tr>\n",
       "    <tr>\n",
       "      <th>9</th>\n",
       "      <td>ART_AND_DESIGN</td>\n",
       "      <td>4.7</td>\n",
       "      <td>121</td>\n",
       "      <td>Free</td>\n",
       "      <td>Everyone</td>\n",
       "      <td>Art &amp; Design;Creativity</td>\n",
       "      <td>2018</td>\n",
       "      <td>4.0</td>\n",
       "      <td>2.8</td>\n",
       "      <td>0.0</td>\n",
       "      <td>10000</td>\n",
       "      <td>3.1</td>\n",
       "    </tr>\n",
       "    <tr>\n",
       "      <th>10</th>\n",
       "      <td>ART_AND_DESIGN</td>\n",
       "      <td>4.4</td>\n",
       "      <td>13880</td>\n",
       "      <td>Free</td>\n",
       "      <td>Everyone</td>\n",
       "      <td>Art &amp; Design</td>\n",
       "      <td>2017</td>\n",
       "      <td>4.1</td>\n",
       "      <td>1.0</td>\n",
       "      <td>0.0</td>\n",
       "      <td>1000000</td>\n",
       "      <td>28.0</td>\n",
       "    </tr>\n",
       "    <tr>\n",
       "      <th>11</th>\n",
       "      <td>ART_AND_DESIGN</td>\n",
       "      <td>4.4</td>\n",
       "      <td>8788</td>\n",
       "      <td>Free</td>\n",
       "      <td>Everyone</td>\n",
       "      <td>Art &amp; Design</td>\n",
       "      <td>2018</td>\n",
       "      <td>4.0</td>\n",
       "      <td>1.0</td>\n",
       "      <td>0.0</td>\n",
       "      <td>1000000</td>\n",
       "      <td>12.0</td>\n",
       "    </tr>\n",
       "    <tr>\n",
       "      <th>12</th>\n",
       "      <td>ART_AND_DESIGN</td>\n",
       "      <td>4.2</td>\n",
       "      <td>44829</td>\n",
       "      <td>Free</td>\n",
       "      <td>Teen</td>\n",
       "      <td>Art &amp; Design</td>\n",
       "      <td>2018</td>\n",
       "      <td>4.1</td>\n",
       "      <td>3.8</td>\n",
       "      <td>0.0</td>\n",
       "      <td>10000000</td>\n",
       "      <td>20.0</td>\n",
       "    </tr>\n",
       "    <tr>\n",
       "      <th>13</th>\n",
       "      <td>ART_AND_DESIGN</td>\n",
       "      <td>4.6</td>\n",
       "      <td>4326</td>\n",
       "      <td>Free</td>\n",
       "      <td>Everyone</td>\n",
       "      <td>Art &amp; Design</td>\n",
       "      <td>2018</td>\n",
       "      <td>4.4</td>\n",
       "      <td>1.0</td>\n",
       "      <td>0.0</td>\n",
       "      <td>100000</td>\n",
       "      <td>21.0</td>\n",
       "    </tr>\n",
       "    <tr>\n",
       "      <th>14</th>\n",
       "      <td>ART_AND_DESIGN</td>\n",
       "      <td>4.4</td>\n",
       "      <td>1518</td>\n",
       "      <td>Free</td>\n",
       "      <td>Everyone</td>\n",
       "      <td>Art &amp; Design</td>\n",
       "      <td>2018</td>\n",
       "      <td>2.3</td>\n",
       "      <td>1.2</td>\n",
       "      <td>0.0</td>\n",
       "      <td>100000</td>\n",
       "      <td>37.0</td>\n",
       "    </tr>\n",
       "    <tr>\n",
       "      <th>15</th>\n",
       "      <td>ART_AND_DESIGN</td>\n",
       "      <td>3.2</td>\n",
       "      <td>55</td>\n",
       "      <td>Free</td>\n",
       "      <td>Everyone</td>\n",
       "      <td>Art &amp; Design</td>\n",
       "      <td>2018</td>\n",
       "      <td>4.2</td>\n",
       "      <td>nan</td>\n",
       "      <td>0.0</td>\n",
       "      <td>5000</td>\n",
       "      <td>2.7</td>\n",
       "    </tr>\n",
       "    <tr>\n",
       "      <th>16</th>\n",
       "      <td>ART_AND_DESIGN</td>\n",
       "      <td>4.7</td>\n",
       "      <td>3632</td>\n",
       "      <td>Free</td>\n",
       "      <td>Everyone</td>\n",
       "      <td>Art &amp; Design</td>\n",
       "      <td>2018</td>\n",
       "      <td>4.1</td>\n",
       "      <td>3.1</td>\n",
       "      <td>0.0</td>\n",
       "      <td>500000</td>\n",
       "      <td>5.5</td>\n",
       "    </tr>\n",
       "    <tr>\n",
       "      <th>17</th>\n",
       "      <td>ART_AND_DESIGN</td>\n",
       "      <td>4.5</td>\n",
       "      <td>27</td>\n",
       "      <td>Free</td>\n",
       "      <td>Everyone</td>\n",
       "      <td>Art &amp; Design</td>\n",
       "      <td>2017</td>\n",
       "      <td>2.3</td>\n",
       "      <td>1.0</td>\n",
       "      <td>0.0</td>\n",
       "      <td>10000</td>\n",
       "      <td>17.0</td>\n",
       "    </tr>\n",
       "    <tr>\n",
       "      <th>18</th>\n",
       "      <td>ART_AND_DESIGN</td>\n",
       "      <td>4.3</td>\n",
       "      <td>194216</td>\n",
       "      <td>Free</td>\n",
       "      <td>Everyone</td>\n",
       "      <td>Art &amp; Design</td>\n",
       "      <td>2018</td>\n",
       "      <td>4.0</td>\n",
       "      <td>2.2</td>\n",
       "      <td>0.0</td>\n",
       "      <td>5000000</td>\n",
       "      <td>39.0</td>\n",
       "    </tr>\n",
       "    <tr>\n",
       "      <th>19</th>\n",
       "      <td>ART_AND_DESIGN</td>\n",
       "      <td>4.6</td>\n",
       "      <td>224399</td>\n",
       "      <td>Free</td>\n",
       "      <td>Everyone</td>\n",
       "      <td>Art &amp; Design</td>\n",
       "      <td>2018</td>\n",
       "      <td>4.1</td>\n",
       "      <td>5.5</td>\n",
       "      <td>0.0</td>\n",
       "      <td>10000000</td>\n",
       "      <td>31.0</td>\n",
       "    </tr>\n",
       "    <tr>\n",
       "      <th>20</th>\n",
       "      <td>ART_AND_DESIGN</td>\n",
       "      <td>4.0</td>\n",
       "      <td>450</td>\n",
       "      <td>Free</td>\n",
       "      <td>Everyone</td>\n",
       "      <td>Art &amp; Design</td>\n",
       "      <td>2018</td>\n",
       "      <td>4.1</td>\n",
       "      <td>4.0</td>\n",
       "      <td>0.0</td>\n",
       "      <td>100000</td>\n",
       "      <td>14.0</td>\n",
       "    </tr>\n",
       "    <tr>\n",
       "      <th>21</th>\n",
       "      <td>ART_AND_DESIGN</td>\n",
       "      <td>4.1</td>\n",
       "      <td>654</td>\n",
       "      <td>Free</td>\n",
       "      <td>Everyone</td>\n",
       "      <td>Art &amp; Design</td>\n",
       "      <td>2018</td>\n",
       "      <td>4.0</td>\n",
       "      <td>1.1</td>\n",
       "      <td>0.0</td>\n",
       "      <td>100000</td>\n",
       "      <td>12.0</td>\n",
       "    </tr>\n",
       "    <tr>\n",
       "      <th>22</th>\n",
       "      <td>ART_AND_DESIGN</td>\n",
       "      <td>4.7</td>\n",
       "      <td>7699</td>\n",
       "      <td>Free</td>\n",
       "      <td>Everyone 10+</td>\n",
       "      <td>Art &amp; Design</td>\n",
       "      <td>2018</td>\n",
       "      <td>4.0</td>\n",
       "      <td>2.2</td>\n",
       "      <td>0.0</td>\n",
       "      <td>500000</td>\n",
       "      <td>4.2</td>\n",
       "    </tr>\n",
       "    <tr>\n",
       "      <th>23</th>\n",
       "      <td>ART_AND_DESIGN</td>\n",
       "      <td>NaN</td>\n",
       "      <td>61</td>\n",
       "      <td>Free</td>\n",
       "      <td>Everyone</td>\n",
       "      <td>Art &amp; Design;Action &amp; Adventure</td>\n",
       "      <td>2018</td>\n",
       "      <td>4.1</td>\n",
       "      <td>1.0</td>\n",
       "      <td>0.0</td>\n",
       "      <td>100000</td>\n",
       "      <td>7.0</td>\n",
       "    </tr>\n",
       "    <tr>\n",
       "      <th>24</th>\n",
       "      <td>ART_AND_DESIGN</td>\n",
       "      <td>4.7</td>\n",
       "      <td>118</td>\n",
       "      <td>Free</td>\n",
       "      <td>Everyone</td>\n",
       "      <td>Art &amp; Design</td>\n",
       "      <td>2018</td>\n",
       "      <td>4.1</td>\n",
       "      <td>1.1</td>\n",
       "      <td>0.0</td>\n",
       "      <td>50000</td>\n",
       "      <td>23.0</td>\n",
       "    </tr>\n",
       "    <tr>\n",
       "      <th>25</th>\n",
       "      <td>ART_AND_DESIGN</td>\n",
       "      <td>4.8</td>\n",
       "      <td>192</td>\n",
       "      <td>Free</td>\n",
       "      <td>Everyone</td>\n",
       "      <td>Art &amp; Design</td>\n",
       "      <td>2018</td>\n",
       "      <td>3.0</td>\n",
       "      <td>1.5</td>\n",
       "      <td>0.0</td>\n",
       "      <td>10000</td>\n",
       "      <td>6.0</td>\n",
       "    </tr>\n",
       "    <tr>\n",
       "      <th>26</th>\n",
       "      <td>ART_AND_DESIGN</td>\n",
       "      <td>4.7</td>\n",
       "      <td>20260</td>\n",
       "      <td>Free</td>\n",
       "      <td>Everyone</td>\n",
       "      <td>Art &amp; Design;Creativity</td>\n",
       "      <td>2017</td>\n",
       "      <td>4.0</td>\n",
       "      <td>1.0</td>\n",
       "      <td>0.0</td>\n",
       "      <td>500000</td>\n",
       "      <td>25.0</td>\n",
       "    </tr>\n",
       "    <tr>\n",
       "      <th>27</th>\n",
       "      <td>ART_AND_DESIGN</td>\n",
       "      <td>4.1</td>\n",
       "      <td>203</td>\n",
       "      <td>Free</td>\n",
       "      <td>Everyone</td>\n",
       "      <td>Art &amp; Design</td>\n",
       "      <td>2018</td>\n",
       "      <td>4.0</td>\n",
       "      <td>1.0</td>\n",
       "      <td>0.0</td>\n",
       "      <td>100000</td>\n",
       "      <td>6.1</td>\n",
       "    </tr>\n",
       "    <tr>\n",
       "      <th>28</th>\n",
       "      <td>ART_AND_DESIGN</td>\n",
       "      <td>3.9</td>\n",
       "      <td>136</td>\n",
       "      <td>Free</td>\n",
       "      <td>Everyone</td>\n",
       "      <td>Art &amp; Design</td>\n",
       "      <td>2018</td>\n",
       "      <td>2.3</td>\n",
       "      <td>6.0</td>\n",
       "      <td>0.0</td>\n",
       "      <td>10000</td>\n",
       "      <td>4.6</td>\n",
       "    </tr>\n",
       "    <tr>\n",
       "      <th>29</th>\n",
       "      <td>ART_AND_DESIGN</td>\n",
       "      <td>4.1</td>\n",
       "      <td>223</td>\n",
       "      <td>Free</td>\n",
       "      <td>Everyone</td>\n",
       "      <td>Art &amp; Design</td>\n",
       "      <td>2017</td>\n",
       "      <td>2.3</td>\n",
       "      <td>1.0</td>\n",
       "      <td>0.0</td>\n",
       "      <td>100000</td>\n",
       "      <td>4.2</td>\n",
       "    </tr>\n",
       "    <tr>\n",
       "      <th>...</th>\n",
       "      <td>...</td>\n",
       "      <td>...</td>\n",
       "      <td>...</td>\n",
       "      <td>...</td>\n",
       "      <td>...</td>\n",
       "      <td>...</td>\n",
       "      <td>...</td>\n",
       "      <td>...</td>\n",
       "      <td>...</td>\n",
       "      <td>...</td>\n",
       "      <td>...</td>\n",
       "      <td>...</td>\n",
       "    </tr>\n",
       "    <tr>\n",
       "      <th>10811</th>\n",
       "      <td>AUTO_AND_VEHICLES</td>\n",
       "      <td>NaN</td>\n",
       "      <td>4</td>\n",
       "      <td>Free</td>\n",
       "      <td>Everyone</td>\n",
       "      <td>Auto &amp; Vehicles</td>\n",
       "      <td>2018</td>\n",
       "      <td>4.4</td>\n",
       "      <td>1.3</td>\n",
       "      <td>0.0</td>\n",
       "      <td>100</td>\n",
       "      <td>3.9</td>\n",
       "    </tr>\n",
       "    <tr>\n",
       "      <th>10812</th>\n",
       "      <td>FAMILY</td>\n",
       "      <td>4.1</td>\n",
       "      <td>80</td>\n",
       "      <td>Free</td>\n",
       "      <td>Everyone</td>\n",
       "      <td>Education</td>\n",
       "      <td>2018</td>\n",
       "      <td>4.0</td>\n",
       "      <td>2.0</td>\n",
       "      <td>0.0</td>\n",
       "      <td>1000</td>\n",
       "      <td>13.0</td>\n",
       "    </tr>\n",
       "    <tr>\n",
       "      <th>10813</th>\n",
       "      <td>BUSINESS</td>\n",
       "      <td>NaN</td>\n",
       "      <td>20</td>\n",
       "      <td>Free</td>\n",
       "      <td>Everyone</td>\n",
       "      <td>Business</td>\n",
       "      <td>2018</td>\n",
       "      <td>4.1</td>\n",
       "      <td>2.1</td>\n",
       "      <td>0.0</td>\n",
       "      <td>10000</td>\n",
       "      <td>2.7</td>\n",
       "    </tr>\n",
       "    <tr>\n",
       "      <th>10814</th>\n",
       "      <td>FAMILY</td>\n",
       "      <td>4.0</td>\n",
       "      <td>785</td>\n",
       "      <td>Free</td>\n",
       "      <td>Teen</td>\n",
       "      <td>Entertainment</td>\n",
       "      <td>2015</td>\n",
       "      <td>3.0</td>\n",
       "      <td>1.3</td>\n",
       "      <td>0.0</td>\n",
       "      <td>50000</td>\n",
       "      <td>31.0</td>\n",
       "    </tr>\n",
       "    <tr>\n",
       "      <th>10815</th>\n",
       "      <td>BOOKS_AND_REFERENCE</td>\n",
       "      <td>4.2</td>\n",
       "      <td>5775</td>\n",
       "      <td>Free</td>\n",
       "      <td>Everyone</td>\n",
       "      <td>Books &amp; Reference</td>\n",
       "      <td>2018</td>\n",
       "      <td>4.2</td>\n",
       "      <td>7.0</td>\n",
       "      <td>0.0</td>\n",
       "      <td>500000</td>\n",
       "      <td>4.9</td>\n",
       "    </tr>\n",
       "    <tr>\n",
       "      <th>10816</th>\n",
       "      <td>BUSINESS</td>\n",
       "      <td>NaN</td>\n",
       "      <td>2</td>\n",
       "      <td>Free</td>\n",
       "      <td>Everyone</td>\n",
       "      <td>Business</td>\n",
       "      <td>2018</td>\n",
       "      <td>4.1</td>\n",
       "      <td>2.1</td>\n",
       "      <td>0.0</td>\n",
       "      <td>100</td>\n",
       "      <td>6.8</td>\n",
       "    </tr>\n",
       "    <tr>\n",
       "      <th>10817</th>\n",
       "      <td>TOOLS</td>\n",
       "      <td>4.0</td>\n",
       "      <td>885</td>\n",
       "      <td>Free</td>\n",
       "      <td>Everyone</td>\n",
       "      <td>Tools</td>\n",
       "      <td>2015</td>\n",
       "      <td>5.0</td>\n",
       "      <td>1.0</td>\n",
       "      <td>0.0</td>\n",
       "      <td>100000</td>\n",
       "      <td>8.0</td>\n",
       "    </tr>\n",
       "    <tr>\n",
       "      <th>10818</th>\n",
       "      <td>FINANCE</td>\n",
       "      <td>NaN</td>\n",
       "      <td>96</td>\n",
       "      <td>Free</td>\n",
       "      <td>Everyone</td>\n",
       "      <td>Finance</td>\n",
       "      <td>2016</td>\n",
       "      <td>2.2</td>\n",
       "      <td>2.3</td>\n",
       "      <td>0.0</td>\n",
       "      <td>10000</td>\n",
       "      <td>1.5</td>\n",
       "    </tr>\n",
       "    <tr>\n",
       "      <th>10819</th>\n",
       "      <td>BOOKS_AND_REFERENCE</td>\n",
       "      <td>3.3</td>\n",
       "      <td>52</td>\n",
       "      <td>Free</td>\n",
       "      <td>Teen</td>\n",
       "      <td>Books &amp; Reference</td>\n",
       "      <td>2017</td>\n",
       "      <td>4.1</td>\n",
       "      <td>0.3</td>\n",
       "      <td>0.0</td>\n",
       "      <td>5000</td>\n",
       "      <td>3.6</td>\n",
       "    </tr>\n",
       "    <tr>\n",
       "      <th>10820</th>\n",
       "      <td>FAMILY</td>\n",
       "      <td>5.0</td>\n",
       "      <td>22</td>\n",
       "      <td>Free</td>\n",
       "      <td>Teen</td>\n",
       "      <td>Education</td>\n",
       "      <td>2018</td>\n",
       "      <td>4.1</td>\n",
       "      <td>3.8</td>\n",
       "      <td>0.0</td>\n",
       "      <td>1000</td>\n",
       "      <td>8.6</td>\n",
       "    </tr>\n",
       "    <tr>\n",
       "      <th>10821</th>\n",
       "      <td>FAMILY</td>\n",
       "      <td>NaN</td>\n",
       "      <td>6</td>\n",
       "      <td>Free</td>\n",
       "      <td>Everyone</td>\n",
       "      <td>Entertainment</td>\n",
       "      <td>2018</td>\n",
       "      <td>4.0</td>\n",
       "      <td>1.0</td>\n",
       "      <td>0.0</td>\n",
       "      <td>50</td>\n",
       "      <td>2.5</td>\n",
       "    </tr>\n",
       "    <tr>\n",
       "      <th>10822</th>\n",
       "      <td>PRODUCTIVITY</td>\n",
       "      <td>NaN</td>\n",
       "      <td>0</td>\n",
       "      <td>Free</td>\n",
       "      <td>Everyone</td>\n",
       "      <td>Productivity</td>\n",
       "      <td>2017</td>\n",
       "      <td>4.4</td>\n",
       "      <td>1</td>\n",
       "      <td>0.0</td>\n",
       "      <td>10</td>\n",
       "      <td>3.1</td>\n",
       "    </tr>\n",
       "    <tr>\n",
       "      <th>10823</th>\n",
       "      <td>VIDEO_PLAYERS</td>\n",
       "      <td>NaN</td>\n",
       "      <td>1</td>\n",
       "      <td>Free</td>\n",
       "      <td>Everyone</td>\n",
       "      <td>Video Players &amp; Editors</td>\n",
       "      <td>2018</td>\n",
       "      <td>4.0</td>\n",
       "      <td>1.0</td>\n",
       "      <td>0.0</td>\n",
       "      <td>100</td>\n",
       "      <td>2.9</td>\n",
       "    </tr>\n",
       "    <tr>\n",
       "      <th>10824</th>\n",
       "      <td>MEDICAL</td>\n",
       "      <td>NaN</td>\n",
       "      <td>67</td>\n",
       "      <td>Free</td>\n",
       "      <td>Everyone</td>\n",
       "      <td>Medical</td>\n",
       "      <td>2018</td>\n",
       "      <td>4.4</td>\n",
       "      <td>2.2</td>\n",
       "      <td>0.0</td>\n",
       "      <td>10000</td>\n",
       "      <td>82.0</td>\n",
       "    </tr>\n",
       "    <tr>\n",
       "      <th>10825</th>\n",
       "      <td>SOCIAL</td>\n",
       "      <td>NaN</td>\n",
       "      <td>7</td>\n",
       "      <td>Free</td>\n",
       "      <td>Teen</td>\n",
       "      <td>Social</td>\n",
       "      <td>2018</td>\n",
       "      <td>4.0</td>\n",
       "      <td>1.0</td>\n",
       "      <td>0.0</td>\n",
       "      <td>100</td>\n",
       "      <td>7.7</td>\n",
       "    </tr>\n",
       "    <tr>\n",
       "      <th>10826</th>\n",
       "      <td>SOCIAL</td>\n",
       "      <td>4.0</td>\n",
       "      <td>88486</td>\n",
       "      <td>Free</td>\n",
       "      <td>Mature 17+</td>\n",
       "      <td>Social</td>\n",
       "      <td>2018</td>\n",
       "      <td>Var</td>\n",
       "      <td>Var</td>\n",
       "      <td>0.0</td>\n",
       "      <td>5000000</td>\n",
       "      <td>Vari</td>\n",
       "    </tr>\n",
       "    <tr>\n",
       "      <th>10827</th>\n",
       "      <td>FAMILY</td>\n",
       "      <td>4.2</td>\n",
       "      <td>117</td>\n",
       "      <td>Free</td>\n",
       "      <td>Everyone</td>\n",
       "      <td>Education</td>\n",
       "      <td>2018</td>\n",
       "      <td>4.0</td>\n",
       "      <td>2.0</td>\n",
       "      <td>0.0</td>\n",
       "      <td>5000</td>\n",
       "      <td>13.0</td>\n",
       "    </tr>\n",
       "    <tr>\n",
       "      <th>10828</th>\n",
       "      <td>COMICS</td>\n",
       "      <td>3.4</td>\n",
       "      <td>291</td>\n",
       "      <td>Free</td>\n",
       "      <td>Everyone</td>\n",
       "      <td>Comics</td>\n",
       "      <td>2017</td>\n",
       "      <td>4.0</td>\n",
       "      <td>2.0</td>\n",
       "      <td>0.0</td>\n",
       "      <td>10000</td>\n",
       "      <td>13.0</td>\n",
       "    </tr>\n",
       "    <tr>\n",
       "      <th>10829</th>\n",
       "      <td>BOOKS_AND_REFERENCE</td>\n",
       "      <td>4.6</td>\n",
       "      <td>603</td>\n",
       "      <td>Free</td>\n",
       "      <td>Everyone</td>\n",
       "      <td>Books &amp; Reference</td>\n",
       "      <td>2016</td>\n",
       "      <td>4.1</td>\n",
       "      <td>2.9</td>\n",
       "      <td>0.0</td>\n",
       "      <td>10000</td>\n",
       "      <td>7.4</td>\n",
       "    </tr>\n",
       "    <tr>\n",
       "      <th>10830</th>\n",
       "      <td>NEWS_AND_MAGAZINES</td>\n",
       "      <td>3.8</td>\n",
       "      <td>881</td>\n",
       "      <td>Free</td>\n",
       "      <td>Everyone</td>\n",
       "      <td>News &amp; Magazines</td>\n",
       "      <td>2014</td>\n",
       "      <td>1.6</td>\n",
       "      <td>1.5</td>\n",
       "      <td>0.0</td>\n",
       "      <td>100000</td>\n",
       "      <td>2.3</td>\n",
       "    </tr>\n",
       "    <tr>\n",
       "      <th>10831</th>\n",
       "      <td>MAPS_AND_NAVIGATION</td>\n",
       "      <td>NaN</td>\n",
       "      <td>38</td>\n",
       "      <td>Free</td>\n",
       "      <td>Everyone</td>\n",
       "      <td>Maps &amp; Navigation</td>\n",
       "      <td>2018</td>\n",
       "      <td>4.0</td>\n",
       "      <td>2.0</td>\n",
       "      <td>0.0</td>\n",
       "      <td>5000</td>\n",
       "      <td>9.8</td>\n",
       "    </tr>\n",
       "    <tr>\n",
       "      <th>10832</th>\n",
       "      <td>WEATHER</td>\n",
       "      <td>3.8</td>\n",
       "      <td>1195</td>\n",
       "      <td>Free</td>\n",
       "      <td>Everyone</td>\n",
       "      <td>Weather</td>\n",
       "      <td>2014</td>\n",
       "      <td>2.1</td>\n",
       "      <td>6.0</td>\n",
       "      <td>0.0</td>\n",
       "      <td>100000</td>\n",
       "      <td>0.56</td>\n",
       "    </tr>\n",
       "    <tr>\n",
       "      <th>10833</th>\n",
       "      <td>BOOKS_AND_REFERENCE</td>\n",
       "      <td>4.8</td>\n",
       "      <td>44</td>\n",
       "      <td>Free</td>\n",
       "      <td>Everyone</td>\n",
       "      <td>Books &amp; Reference</td>\n",
       "      <td>2014</td>\n",
       "      <td>2.2</td>\n",
       "      <td>0.8</td>\n",
       "      <td>0.0</td>\n",
       "      <td>1000</td>\n",
       "      <td>0.60</td>\n",
       "    </tr>\n",
       "    <tr>\n",
       "      <th>10834</th>\n",
       "      <td>FAMILY</td>\n",
       "      <td>4.0</td>\n",
       "      <td>7</td>\n",
       "      <td>Free</td>\n",
       "      <td>Everyone</td>\n",
       "      <td>Education</td>\n",
       "      <td>2017</td>\n",
       "      <td>4.1</td>\n",
       "      <td>1.0</td>\n",
       "      <td>0.0</td>\n",
       "      <td>500</td>\n",
       "      <td>2.6</td>\n",
       "    </tr>\n",
       "    <tr>\n",
       "      <th>10835</th>\n",
       "      <td>BUSINESS</td>\n",
       "      <td>NaN</td>\n",
       "      <td>0</td>\n",
       "      <td>Free</td>\n",
       "      <td>Everyone</td>\n",
       "      <td>Business</td>\n",
       "      <td>2016</td>\n",
       "      <td>4.0</td>\n",
       "      <td>1.1</td>\n",
       "      <td>0.0</td>\n",
       "      <td>10</td>\n",
       "      <td>9.6</td>\n",
       "    </tr>\n",
       "    <tr>\n",
       "      <th>10836</th>\n",
       "      <td>FAMILY</td>\n",
       "      <td>4.5</td>\n",
       "      <td>38</td>\n",
       "      <td>Free</td>\n",
       "      <td>Everyone</td>\n",
       "      <td>Education</td>\n",
       "      <td>2017</td>\n",
       "      <td>4.1</td>\n",
       "      <td>1.4</td>\n",
       "      <td>0.0</td>\n",
       "      <td>5000</td>\n",
       "      <td>53.0</td>\n",
       "    </tr>\n",
       "    <tr>\n",
       "      <th>10837</th>\n",
       "      <td>FAMILY</td>\n",
       "      <td>5.0</td>\n",
       "      <td>4</td>\n",
       "      <td>Free</td>\n",
       "      <td>Everyone</td>\n",
       "      <td>Education</td>\n",
       "      <td>2018</td>\n",
       "      <td>4.1</td>\n",
       "      <td>1.0</td>\n",
       "      <td>0.0</td>\n",
       "      <td>100</td>\n",
       "      <td>3.6</td>\n",
       "    </tr>\n",
       "    <tr>\n",
       "      <th>10838</th>\n",
       "      <td>MEDICAL</td>\n",
       "      <td>NaN</td>\n",
       "      <td>3</td>\n",
       "      <td>Free</td>\n",
       "      <td>Everyone</td>\n",
       "      <td>Medical</td>\n",
       "      <td>2017</td>\n",
       "      <td>2.2</td>\n",
       "      <td>1.0</td>\n",
       "      <td>0.0</td>\n",
       "      <td>1000</td>\n",
       "      <td>9.5</td>\n",
       "    </tr>\n",
       "    <tr>\n",
       "      <th>10839</th>\n",
       "      <td>BOOKS_AND_REFERENCE</td>\n",
       "      <td>4.5</td>\n",
       "      <td>114</td>\n",
       "      <td>Free</td>\n",
       "      <td>Mature 17+</td>\n",
       "      <td>Books &amp; Reference</td>\n",
       "      <td>2015</td>\n",
       "      <td>Var</td>\n",
       "      <td>Var</td>\n",
       "      <td>0.0</td>\n",
       "      <td>1000</td>\n",
       "      <td>Vari</td>\n",
       "    </tr>\n",
       "    <tr>\n",
       "      <th>10840</th>\n",
       "      <td>LIFESTYLE</td>\n",
       "      <td>4.5</td>\n",
       "      <td>398307</td>\n",
       "      <td>Free</td>\n",
       "      <td>Everyone</td>\n",
       "      <td>Lifestyle</td>\n",
       "      <td>2018</td>\n",
       "      <td>Var</td>\n",
       "      <td>Var</td>\n",
       "      <td>0.0</td>\n",
       "      <td>10000000</td>\n",
       "      <td>19.0</td>\n",
       "    </tr>\n",
       "  </tbody>\n",
       "</table>\n",
       "<p>10841 rows × 12 columns</p>\n",
       "</div>"
      ],
      "text/plain": [
       "                  Category  Rating Reviews  Type Content Rating  \\\n",
       "0           ART_AND_DESIGN     4.1     159  Free       Everyone   \n",
       "1           ART_AND_DESIGN     3.9     967  Free       Everyone   \n",
       "2           ART_AND_DESIGN     4.7   87510  Free       Everyone   \n",
       "3           ART_AND_DESIGN     4.5  215644  Free           Teen   \n",
       "4           ART_AND_DESIGN     4.3     967  Free       Everyone   \n",
       "5           ART_AND_DESIGN     4.4     167  Free       Everyone   \n",
       "6           ART_AND_DESIGN     3.8     178  Free       Everyone   \n",
       "7           ART_AND_DESIGN     4.1   36815  Free       Everyone   \n",
       "8           ART_AND_DESIGN     4.4   13791  Free       Everyone   \n",
       "9           ART_AND_DESIGN     4.7     121  Free       Everyone   \n",
       "10          ART_AND_DESIGN     4.4   13880  Free       Everyone   \n",
       "11          ART_AND_DESIGN     4.4    8788  Free       Everyone   \n",
       "12          ART_AND_DESIGN     4.2   44829  Free           Teen   \n",
       "13          ART_AND_DESIGN     4.6    4326  Free       Everyone   \n",
       "14          ART_AND_DESIGN     4.4    1518  Free       Everyone   \n",
       "15          ART_AND_DESIGN     3.2      55  Free       Everyone   \n",
       "16          ART_AND_DESIGN     4.7    3632  Free       Everyone   \n",
       "17          ART_AND_DESIGN     4.5      27  Free       Everyone   \n",
       "18          ART_AND_DESIGN     4.3  194216  Free       Everyone   \n",
       "19          ART_AND_DESIGN     4.6  224399  Free       Everyone   \n",
       "20          ART_AND_DESIGN     4.0     450  Free       Everyone   \n",
       "21          ART_AND_DESIGN     4.1     654  Free       Everyone   \n",
       "22          ART_AND_DESIGN     4.7    7699  Free   Everyone 10+   \n",
       "23          ART_AND_DESIGN     NaN      61  Free       Everyone   \n",
       "24          ART_AND_DESIGN     4.7     118  Free       Everyone   \n",
       "25          ART_AND_DESIGN     4.8     192  Free       Everyone   \n",
       "26          ART_AND_DESIGN     4.7   20260  Free       Everyone   \n",
       "27          ART_AND_DESIGN     4.1     203  Free       Everyone   \n",
       "28          ART_AND_DESIGN     3.9     136  Free       Everyone   \n",
       "29          ART_AND_DESIGN     4.1     223  Free       Everyone   \n",
       "...                    ...     ...     ...   ...            ...   \n",
       "10811    AUTO_AND_VEHICLES     NaN       4  Free       Everyone   \n",
       "10812               FAMILY     4.1      80  Free       Everyone   \n",
       "10813             BUSINESS     NaN      20  Free       Everyone   \n",
       "10814               FAMILY     4.0     785  Free           Teen   \n",
       "10815  BOOKS_AND_REFERENCE     4.2    5775  Free       Everyone   \n",
       "10816             BUSINESS     NaN       2  Free       Everyone   \n",
       "10817                TOOLS     4.0     885  Free       Everyone   \n",
       "10818              FINANCE     NaN      96  Free       Everyone   \n",
       "10819  BOOKS_AND_REFERENCE     3.3      52  Free           Teen   \n",
       "10820               FAMILY     5.0      22  Free           Teen   \n",
       "10821               FAMILY     NaN       6  Free       Everyone   \n",
       "10822         PRODUCTIVITY     NaN       0  Free       Everyone   \n",
       "10823        VIDEO_PLAYERS     NaN       1  Free       Everyone   \n",
       "10824              MEDICAL     NaN      67  Free       Everyone   \n",
       "10825               SOCIAL     NaN       7  Free           Teen   \n",
       "10826               SOCIAL     4.0   88486  Free     Mature 17+   \n",
       "10827               FAMILY     4.2     117  Free       Everyone   \n",
       "10828               COMICS     3.4     291  Free       Everyone   \n",
       "10829  BOOKS_AND_REFERENCE     4.6     603  Free       Everyone   \n",
       "10830   NEWS_AND_MAGAZINES     3.8     881  Free       Everyone   \n",
       "10831  MAPS_AND_NAVIGATION     NaN      38  Free       Everyone   \n",
       "10832              WEATHER     3.8    1195  Free       Everyone   \n",
       "10833  BOOKS_AND_REFERENCE     4.8      44  Free       Everyone   \n",
       "10834               FAMILY     4.0       7  Free       Everyone   \n",
       "10835             BUSINESS     NaN       0  Free       Everyone   \n",
       "10836               FAMILY     4.5      38  Free       Everyone   \n",
       "10837               FAMILY     5.0       4  Free       Everyone   \n",
       "10838              MEDICAL     NaN       3  Free       Everyone   \n",
       "10839  BOOKS_AND_REFERENCE     4.5     114  Free     Mature 17+   \n",
       "10840            LIFESTYLE     4.5  398307  Free       Everyone   \n",
       "\n",
       "                                Genres   year phone_ver game_ver  price_num  \\\n",
       "0                         Art & Design   2018       4.0      1.0        0.0   \n",
       "1            Art & Design;Pretend Play   2018       4.0      2.0        0.0   \n",
       "2                         Art & Design   2018       4.0      1.2        0.0   \n",
       "3                         Art & Design   2018       4.2      Var        0.0   \n",
       "4              Art & Design;Creativity   2018       4.4      1.1        0.0   \n",
       "5                         Art & Design   2017       2.3      1.0        0.0   \n",
       "6                         Art & Design   2018       4.0      1.1        0.0   \n",
       "7                         Art & Design   2018       4.2      6.1        0.0   \n",
       "8                         Art & Design   2017       3.0      2.9        0.0   \n",
       "9              Art & Design;Creativity   2018       4.0      2.8        0.0   \n",
       "10                        Art & Design   2017       4.1      1.0        0.0   \n",
       "11                        Art & Design   2018       4.0      1.0        0.0   \n",
       "12                        Art & Design   2018       4.1      3.8        0.0   \n",
       "13                        Art & Design   2018       4.4      1.0        0.0   \n",
       "14                        Art & Design   2018       2.3      1.2        0.0   \n",
       "15                        Art & Design   2018       4.2      nan        0.0   \n",
       "16                        Art & Design   2018       4.1      3.1        0.0   \n",
       "17                        Art & Design   2017       2.3      1.0        0.0   \n",
       "18                        Art & Design   2018       4.0      2.2        0.0   \n",
       "19                        Art & Design   2018       4.1      5.5        0.0   \n",
       "20                        Art & Design   2018       4.1      4.0        0.0   \n",
       "21                        Art & Design   2018       4.0      1.1        0.0   \n",
       "22                        Art & Design   2018       4.0      2.2        0.0   \n",
       "23     Art & Design;Action & Adventure   2018       4.1      1.0        0.0   \n",
       "24                        Art & Design   2018       4.1      1.1        0.0   \n",
       "25                        Art & Design   2018       3.0      1.5        0.0   \n",
       "26             Art & Design;Creativity   2017       4.0      1.0        0.0   \n",
       "27                        Art & Design   2018       4.0      1.0        0.0   \n",
       "28                        Art & Design   2018       2.3      6.0        0.0   \n",
       "29                        Art & Design   2017       2.3      1.0        0.0   \n",
       "...                                ...    ...       ...      ...        ...   \n",
       "10811                  Auto & Vehicles   2018       4.4      1.3        0.0   \n",
       "10812                        Education   2018       4.0      2.0        0.0   \n",
       "10813                         Business   2018       4.1      2.1        0.0   \n",
       "10814                    Entertainment   2015       3.0      1.3        0.0   \n",
       "10815                Books & Reference   2018       4.2      7.0        0.0   \n",
       "10816                         Business   2018       4.1      2.1        0.0   \n",
       "10817                            Tools   2015       5.0      1.0        0.0   \n",
       "10818                          Finance   2016       2.2      2.3        0.0   \n",
       "10819                Books & Reference   2017       4.1      0.3        0.0   \n",
       "10820                        Education   2018       4.1      3.8        0.0   \n",
       "10821                    Entertainment   2018       4.0      1.0        0.0   \n",
       "10822                     Productivity   2017       4.4        1        0.0   \n",
       "10823          Video Players & Editors   2018       4.0      1.0        0.0   \n",
       "10824                          Medical   2018       4.4      2.2        0.0   \n",
       "10825                           Social   2018       4.0      1.0        0.0   \n",
       "10826                           Social   2018       Var      Var        0.0   \n",
       "10827                        Education   2018       4.0      2.0        0.0   \n",
       "10828                           Comics   2017       4.0      2.0        0.0   \n",
       "10829                Books & Reference   2016       4.1      2.9        0.0   \n",
       "10830                 News & Magazines   2014       1.6      1.5        0.0   \n",
       "10831                Maps & Navigation   2018       4.0      2.0        0.0   \n",
       "10832                          Weather   2014       2.1      6.0        0.0   \n",
       "10833                Books & Reference   2014       2.2      0.8        0.0   \n",
       "10834                        Education   2017       4.1      1.0        0.0   \n",
       "10835                         Business   2016       4.0      1.1        0.0   \n",
       "10836                        Education   2017       4.1      1.4        0.0   \n",
       "10837                        Education   2018       4.1      1.0        0.0   \n",
       "10838                          Medical   2017       2.2      1.0        0.0   \n",
       "10839                Books & Reference   2015       Var      Var        0.0   \n",
       "10840                        Lifestyle   2018       Var      Var        0.0   \n",
       "\n",
       "       Install_num size_of_app(by_M)  \n",
       "0            10000              19.0  \n",
       "1           500000              14.0  \n",
       "2          5000000               8.7  \n",
       "3         50000000              25.0  \n",
       "4           100000               2.8  \n",
       "5            50000               5.6  \n",
       "6            50000              19.0  \n",
       "7          1000000              29.0  \n",
       "8          1000000              33.0  \n",
       "9            10000               3.1  \n",
       "10         1000000              28.0  \n",
       "11         1000000              12.0  \n",
       "12        10000000              20.0  \n",
       "13          100000              21.0  \n",
       "14          100000              37.0  \n",
       "15            5000               2.7  \n",
       "16          500000               5.5  \n",
       "17           10000              17.0  \n",
       "18         5000000              39.0  \n",
       "19        10000000              31.0  \n",
       "20          100000              14.0  \n",
       "21          100000              12.0  \n",
       "22          500000               4.2  \n",
       "23          100000               7.0  \n",
       "24           50000              23.0  \n",
       "25           10000               6.0  \n",
       "26          500000              25.0  \n",
       "27          100000               6.1  \n",
       "28           10000               4.6  \n",
       "29          100000               4.2  \n",
       "...            ...               ...  \n",
       "10811          100               3.9  \n",
       "10812         1000              13.0  \n",
       "10813        10000               2.7  \n",
       "10814        50000              31.0  \n",
       "10815       500000               4.9  \n",
       "10816          100               6.8  \n",
       "10817       100000               8.0  \n",
       "10818        10000               1.5  \n",
       "10819         5000               3.6  \n",
       "10820         1000               8.6  \n",
       "10821           50               2.5  \n",
       "10822           10               3.1  \n",
       "10823          100               2.9  \n",
       "10824        10000              82.0  \n",
       "10825          100               7.7  \n",
       "10826      5000000              Vari  \n",
       "10827         5000              13.0  \n",
       "10828        10000              13.0  \n",
       "10829        10000               7.4  \n",
       "10830       100000               2.3  \n",
       "10831         5000               9.8  \n",
       "10832       100000              0.56  \n",
       "10833         1000              0.60  \n",
       "10834          500               2.6  \n",
       "10835           10               9.6  \n",
       "10836         5000              53.0  \n",
       "10837          100               3.6  \n",
       "10838         1000               9.5  \n",
       "10839         1000              Vari  \n",
       "10840     10000000              19.0  \n",
       "\n",
       "[10841 rows x 12 columns]"
      ]
     },
     "execution_count": 36,
     "metadata": {},
     "output_type": "execute_result"
    }
   ],
   "source": [
    "dt"
   ]
  },
  {
   "cell_type": "code",
   "execution_count": 37,
   "metadata": {},
   "outputs": [],
   "source": [
    "before = ['Category','Rating','Reviews','Type','Content Rating','Genres','year','phone_ver','game_ver','price_num','Install_num','size_of_app(by_M)']"
   ]
  },
  {
   "cell_type": "code",
   "execution_count": 38,
   "metadata": {},
   "outputs": [],
   "source": [
    "after = ['类别','评分','评论','收费情况','对象','体裁','年份','手机版本','游戏版本','价格','安装量','应用大小']"
   ]
  },
  {
   "cell_type": "code",
   "execution_count": 39,
   "metadata": {},
   "outputs": [],
   "source": [
    "trans = zip(before,after)"
   ]
  },
  {
   "cell_type": "code",
   "execution_count": 40,
   "metadata": {},
   "outputs": [],
   "source": [
    "trans_dict = dict(trans)"
   ]
  },
  {
   "cell_type": "code",
   "execution_count": 41,
   "metadata": {},
   "outputs": [
    {
     "data": {
      "text/plain": [
       "{'Category': '类别',\n",
       " 'Rating': '评分',\n",
       " 'Reviews': '评论',\n",
       " 'Type': '收费情况',\n",
       " 'Content Rating': '对象',\n",
       " 'Genres': '体裁',\n",
       " 'year': '年份',\n",
       " 'phone_ver': '手机版本',\n",
       " 'game_ver': '游戏版本',\n",
       " 'price_num': '价格',\n",
       " 'Install_num': '安装量',\n",
       " 'size_of_app(by_M)': '应用大小'}"
      ]
     },
     "execution_count": 41,
     "metadata": {},
     "output_type": "execute_result"
    }
   ],
   "source": [
    "trans_dict"
   ]
  },
  {
   "cell_type": "code",
   "execution_count": 42,
   "metadata": {},
   "outputs": [],
   "source": [
    "dt.rename(trans_dict,axis=1,inplace=True)"
   ]
  },
  {
   "cell_type": "code",
   "execution_count": 43,
   "metadata": {},
   "outputs": [
    {
     "name": "stdout",
     "output_type": "stream",
     "text": [
      "<class 'pandas.core.frame.DataFrame'>\n",
      "RangeIndex: 10841 entries, 0 to 10840\n",
      "Data columns (total 12 columns):\n",
      "类别      10841 non-null object\n",
      "评分      9367 non-null float64\n",
      "评论      10841 non-null object\n",
      "收费情况    10840 non-null object\n",
      "对象      10841 non-null object\n",
      "体裁      10841 non-null object\n",
      "年份      10841 non-null object\n",
      "手机版本    10841 non-null object\n",
      "游戏版本    10841 non-null object\n",
      "价格      10840 non-null float64\n",
      "安装量     10841 non-null int64\n",
      "应用大小    10841 non-null object\n",
      "dtypes: float64(2), int64(1), object(9)\n",
      "memory usage: 635.3+ KB\n"
     ]
    }
   ],
   "source": [
    "dt.info()\n",
    "#评分缺失较多，把其他缺失少的数据类型转化一下"
   ]
  },
  {
   "cell_type": "code",
   "execution_count": 44,
   "metadata": {},
   "outputs": [
    {
     "data": {
      "text/html": [
       "<div>\n",
       "<style scoped>\n",
       "    .dataframe tbody tr th:only-of-type {\n",
       "        vertical-align: middle;\n",
       "    }\n",
       "\n",
       "    .dataframe tbody tr th {\n",
       "        vertical-align: top;\n",
       "    }\n",
       "\n",
       "    .dataframe thead th {\n",
       "        text-align: right;\n",
       "    }\n",
       "</style>\n",
       "<table border=\"1\" class=\"dataframe\">\n",
       "  <thead>\n",
       "    <tr style=\"text-align: right;\">\n",
       "      <th></th>\n",
       "      <th>类别</th>\n",
       "      <th>评分</th>\n",
       "      <th>评论</th>\n",
       "      <th>收费情况</th>\n",
       "      <th>对象</th>\n",
       "      <th>体裁</th>\n",
       "      <th>年份</th>\n",
       "      <th>手机版本</th>\n",
       "      <th>游戏版本</th>\n",
       "      <th>价格</th>\n",
       "      <th>安装量</th>\n",
       "      <th>应用大小</th>\n",
       "    </tr>\n",
       "  </thead>\n",
       "  <tbody>\n",
       "    <tr>\n",
       "      <th>0</th>\n",
       "      <td>ART_AND_DESIGN</td>\n",
       "      <td>4.1</td>\n",
       "      <td>159</td>\n",
       "      <td>Free</td>\n",
       "      <td>Everyone</td>\n",
       "      <td>Art &amp; Design</td>\n",
       "      <td>2018</td>\n",
       "      <td>4.0</td>\n",
       "      <td>1.0</td>\n",
       "      <td>0.0</td>\n",
       "      <td>10000</td>\n",
       "      <td>19.0</td>\n",
       "    </tr>\n",
       "    <tr>\n",
       "      <th>1</th>\n",
       "      <td>ART_AND_DESIGN</td>\n",
       "      <td>3.9</td>\n",
       "      <td>967</td>\n",
       "      <td>Free</td>\n",
       "      <td>Everyone</td>\n",
       "      <td>Art &amp; Design;Pretend Play</td>\n",
       "      <td>2018</td>\n",
       "      <td>4.0</td>\n",
       "      <td>2.0</td>\n",
       "      <td>0.0</td>\n",
       "      <td>500000</td>\n",
       "      <td>14.0</td>\n",
       "    </tr>\n",
       "    <tr>\n",
       "      <th>2</th>\n",
       "      <td>ART_AND_DESIGN</td>\n",
       "      <td>4.7</td>\n",
       "      <td>87510</td>\n",
       "      <td>Free</td>\n",
       "      <td>Everyone</td>\n",
       "      <td>Art &amp; Design</td>\n",
       "      <td>2018</td>\n",
       "      <td>4.0</td>\n",
       "      <td>1.2</td>\n",
       "      <td>0.0</td>\n",
       "      <td>5000000</td>\n",
       "      <td>8.7</td>\n",
       "    </tr>\n",
       "  </tbody>\n",
       "</table>\n",
       "</div>"
      ],
      "text/plain": [
       "               类别   评分     评论  收费情况        对象                         体裁  \\\n",
       "0  ART_AND_DESIGN  4.1    159  Free  Everyone               Art & Design   \n",
       "1  ART_AND_DESIGN  3.9    967  Free  Everyone  Art & Design;Pretend Play   \n",
       "2  ART_AND_DESIGN  4.7  87510  Free  Everyone               Art & Design   \n",
       "\n",
       "      年份 手机版本 游戏版本   价格      安装量  应用大小  \n",
       "0   2018  4.0  1.0  0.0    10000  19.0  \n",
       "1   2018  4.0  2.0  0.0   500000  14.0  \n",
       "2   2018  4.0  1.2  0.0  5000000   8.7  "
      ]
     },
     "execution_count": 44,
     "metadata": {},
     "output_type": "execute_result"
    }
   ],
   "source": [
    "dt.head(3)"
   ]
  },
  {
   "cell_type": "code",
   "execution_count": 45,
   "metadata": {},
   "outputs": [],
   "source": [
    "dt.评分 = dt.评分.map(lambda x:float(x))\n",
    "dt.评论 = dt.评论.map(lambda x:float(x))\n",
    "dt.年份 = dt.年份.map(lambda x:int(x))"
   ]
  },
  {
   "cell_type": "code",
   "execution_count": 46,
   "metadata": {},
   "outputs": [
    {
     "data": {
      "text/plain": [
       "array(['4.0', '4.2', '4.4', '2.3', '3.0', '4.1', 'Var', '2.2', '5.0',\n",
       "       '6.0', '1.6', '1.5', '2.1', '7.0', '5.1', '4.3', '2.0', '3.2',\n",
       "       '7.1', '8.0', '3.1', 'nan', '1.0'], dtype=object)"
      ]
     },
     "execution_count": 46,
     "metadata": {},
     "output_type": "execute_result"
    }
   ],
   "source": [
    "dt.手机版本.unique()   "
   ]
  },
  {
   "cell_type": "code",
   "execution_count": 47,
   "metadata": {},
   "outputs": [
    {
     "data": {
      "text/plain": [
       "array(['1.0', '2.0', '1.2', 'Var', '1.1', '6.1', '2.9', '2.8', '3.8',\n",
       "       'nan', '3.1', '2.2', '5.5', '4.0', '1.5', '6.0', '6.7', '1.6',\n",
       "       '2.1', '1.3', '1', '1.4', '11.', '3.0', '1.7', '2.5', '2.4', '1.9',\n",
       "       '0.2', '4.4', '2.3', '8.3', '10.', '3.2', '4.6', '5.4', '8.0',\n",
       "       '3.3', '18.', '9.1', '15.', '5.0', '9.0', '14.', '7.0', '3.9',\n",
       "       '3.4', '9.7', '4.9', '5.2', '3.5', '7.3', '5.1', '4.1', '99.',\n",
       "       '12.', '0.9', '6.4', '3.7', '2.6', '4.3', '6.3', '4.7', '4.2',\n",
       "       '1.8', '37.', '9.8', '24.', '47.', 'R6.', '69.', '7.5', '9.9',\n",
       "       '42.', '0.1', '7.7', '7.2', '6.5', '5.6', '4.5', '5.8', '196',\n",
       "       '8.1', '201', '6.6', '4.8', '8.7', '0.0', '3.6', '5.3', '8.2',\n",
       "       '1.', '2', '20.', '10', '5.7', '13.', '8.5', 'v1.', '01.', '43',\n",
       "       '16.', '8.4', 'Can', '6.8', '6.2', '2.7', '5.9', '7.8', '7.1',\n",
       "       '7.9', 'p5.', '112', '37', '8.8', 'Pub', '7.4', '9.6', '220',\n",
       "       '858', 'v3.', 'Ver', '02.', '9.4', '319', '542', '0.7', '0.5',\n",
       "       '19.', '1_3', '79.', '108', '8', '57.', '60', '149', '378', '28.',\n",
       "       '7.6', '7', '25.', '300', 'PN.', 'Ini', '0.6', '43.', 'T4.', '50.',\n",
       "       '27.', '29.', '8.9', '6.9', '584', '22.', '9.3', '71', '100',\n",
       "       '06.', '17.', '9.2', '8.6', '53.', 'v5.', 'MyM', 'v8.', 'v7.',\n",
       "       '32.', 'v15', '40.', '68.', 'Fre', 'Nat', '30', '9.5', '116',\n",
       "       '04.', '0.8', '275', 'ver', '505', 'a.2', '0.4', '31', '190',\n",
       "       'v8[', '23.', '180', '1,0', '32', 'v20', 'H7S', '12', '4', 'v2',\n",
       "       '263', '6', '65.', '5', 'acr', 'v67', 'air', '11;', '25', '125',\n",
       "       'v4.', '117', 'cli', 'v2.', '30.', '132', '20', '0.3', 'clo',\n",
       "       '568', '39.', 'new', '666', '13', 'Z (', 'Cow', '3_1', 'Fin',\n",
       "       '250', 'Arr', '26.', 'BL ', '35.', 'Roc', '31.', 'V1.', 'V2.',\n",
       "       'no_', '3', 'opc', '106', '102', 'v6.', '01e', '70.', 'fcb', '41.',\n",
       "       'The', '202', '48', 'CL ', '11', 'Bow', 'App', 'Cop', 'Gra', 'Rel',\n",
       "       '60.', 'Y4W', 'Sol', '200', 'KM', 'iu4', 'IND', '700', 'And',\n",
       "       'Tra', 'Glu', 'v3', 'DH-', 'HTT', '21 ', '67', 'DPS', '15|', 'di-',\n",
       "       'r2.', 'pb1', '47', 'R1.', 'Hum', '33.', 'eri', '454', 'Bui',\n",
       "       '130', '56', '23', '21.', 'Pai', 'Fen', 'Blu', '314', '36', 'Pro',\n",
       "       'V1-', 'MON', 'F2i', '81', 'V4.', '176', '060', '68', '14', '34',\n",
       "       '9', 'FH ', '3rd', '15'], dtype=object)"
      ]
     },
     "execution_count": 47,
     "metadata": {},
     "output_type": "execute_result"
    }
   ],
   "source": [
    "dt.游戏版本.unique()   "
   ]
  },
  {
   "cell_type": "code",
   "execution_count": 48,
   "metadata": {},
   "outputs": [],
   "source": [
    "#发现有异常值，标记为负数，其他数值转化成float"
   ]
  },
  {
   "cell_type": "code",
   "execution_count": 49,
   "metadata": {},
   "outputs": [],
   "source": [
    "def label(x):                       \n",
    "    try:\n",
    "        return float(x)\n",
    "    except ValueError:\n",
    "        return -1"
   ]
  },
  {
   "cell_type": "code",
   "execution_count": 50,
   "metadata": {},
   "outputs": [],
   "source": [
    "dt.手机版本 = dt.手机版本.map(label)\n",
    "dt.游戏版本 = dt.游戏版本.map(label)\n",
    "dt.应用大小 = dt.应用大小.map(label)"
   ]
  },
  {
   "cell_type": "code",
   "execution_count": 51,
   "metadata": {},
   "outputs": [
    {
     "name": "stdout",
     "output_type": "stream",
     "text": [
      "<class 'pandas.core.frame.DataFrame'>\n",
      "RangeIndex: 10841 entries, 0 to 10840\n",
      "Data columns (total 12 columns):\n",
      "类别      10841 non-null object\n",
      "评分      9367 non-null float64\n",
      "评论      10841 non-null float64\n",
      "收费情况    10840 non-null object\n",
      "对象      10841 non-null object\n",
      "体裁      10841 non-null object\n",
      "年份      10841 non-null int64\n",
      "手机版本    10839 non-null float64\n",
      "游戏版本    10833 non-null float64\n",
      "价格      10840 non-null float64\n",
      "安装量     10841 non-null int64\n",
      "应用大小    10841 non-null float64\n",
      "dtypes: float64(6), int64(2), object(4)\n",
      "memory usage: 847.0+ KB\n"
     ]
    }
   ],
   "source": [
    "dt.info()"
   ]
  },
  {
   "cell_type": "code",
   "execution_count": 52,
   "metadata": {},
   "outputs": [
    {
     "data": {
      "text/plain": [
       "array(['Free', 'Paid', nan], dtype=object)"
      ]
     },
     "execution_count": 52,
     "metadata": {},
     "output_type": "execute_result"
    }
   ],
   "source": [
    "dt.收费情况.unique()"
   ]
  },
  {
   "cell_type": "code",
   "execution_count": 53,
   "metadata": {},
   "outputs": [],
   "source": [
    "#收费情况，有一行没有，由于只有一行，我们把它填充为免费"
   ]
  },
  {
   "cell_type": "code",
   "execution_count": 54,
   "metadata": {},
   "outputs": [],
   "source": [
    "dt.收费情况.fillna('Free',inplace=True)"
   ]
  },
  {
   "cell_type": "code",
   "execution_count": 55,
   "metadata": {},
   "outputs": [
    {
     "name": "stdout",
     "output_type": "stream",
     "text": [
      "<class 'pandas.core.frame.DataFrame'>\n",
      "RangeIndex: 10841 entries, 0 to 10840\n",
      "Data columns (total 12 columns):\n",
      "类别      10841 non-null object\n",
      "评分      9367 non-null float64\n",
      "评论      10841 non-null float64\n",
      "收费情况    10841 non-null object\n",
      "对象      10841 non-null object\n",
      "体裁      10841 non-null object\n",
      "年份      10841 non-null int64\n",
      "手机版本    10839 non-null float64\n",
      "游戏版本    10833 non-null float64\n",
      "价格      10840 non-null float64\n",
      "安装量     10841 non-null int64\n",
      "应用大小    10841 non-null float64\n",
      "dtypes: float64(6), int64(2), object(4)\n",
      "memory usage: 847.0+ KB\n"
     ]
    }
   ],
   "source": [
    "dt.info()"
   ]
  },
  {
   "cell_type": "markdown",
   "metadata": {},
   "source": [
    "3.2把需要的列和行提取出来"
   ]
  },
  {
   "cell_type": "code",
   "execution_count": 58,
   "metadata": {},
   "outputs": [
    {
     "data": {
      "text/html": [
       "<div>\n",
       "<style scoped>\n",
       "    .dataframe tbody tr th:only-of-type {\n",
       "        vertical-align: middle;\n",
       "    }\n",
       "\n",
       "    .dataframe tbody tr th {\n",
       "        vertical-align: top;\n",
       "    }\n",
       "\n",
       "    .dataframe thead th {\n",
       "        text-align: right;\n",
       "    }\n",
       "</style>\n",
       "<table border=\"1\" class=\"dataframe\">\n",
       "  <thead>\n",
       "    <tr style=\"text-align: right;\">\n",
       "      <th></th>\n",
       "      <th>类别</th>\n",
       "      <th>评分</th>\n",
       "      <th>评论</th>\n",
       "      <th>收费情况</th>\n",
       "      <th>对象</th>\n",
       "      <th>体裁</th>\n",
       "      <th>年份</th>\n",
       "      <th>手机版本</th>\n",
       "      <th>游戏版本</th>\n",
       "      <th>价格</th>\n",
       "      <th>安装量</th>\n",
       "      <th>应用大小</th>\n",
       "    </tr>\n",
       "  </thead>\n",
       "  <tbody>\n",
       "    <tr>\n",
       "      <th>0</th>\n",
       "      <td>ART_AND_DESIGN</td>\n",
       "      <td>4.1</td>\n",
       "      <td>159.0</td>\n",
       "      <td>Free</td>\n",
       "      <td>Everyone</td>\n",
       "      <td>Art &amp; Design</td>\n",
       "      <td>2018</td>\n",
       "      <td>4.0</td>\n",
       "      <td>1.0</td>\n",
       "      <td>0.0</td>\n",
       "      <td>10000</td>\n",
       "      <td>19.0</td>\n",
       "    </tr>\n",
       "    <tr>\n",
       "      <th>1</th>\n",
       "      <td>ART_AND_DESIGN</td>\n",
       "      <td>3.9</td>\n",
       "      <td>967.0</td>\n",
       "      <td>Free</td>\n",
       "      <td>Everyone</td>\n",
       "      <td>Art &amp; Design;Pretend Play</td>\n",
       "      <td>2018</td>\n",
       "      <td>4.0</td>\n",
       "      <td>2.0</td>\n",
       "      <td>0.0</td>\n",
       "      <td>500000</td>\n",
       "      <td>14.0</td>\n",
       "    </tr>\n",
       "    <tr>\n",
       "      <th>2</th>\n",
       "      <td>ART_AND_DESIGN</td>\n",
       "      <td>4.7</td>\n",
       "      <td>87510.0</td>\n",
       "      <td>Free</td>\n",
       "      <td>Everyone</td>\n",
       "      <td>Art &amp; Design</td>\n",
       "      <td>2018</td>\n",
       "      <td>4.0</td>\n",
       "      <td>1.2</td>\n",
       "      <td>0.0</td>\n",
       "      <td>5000000</td>\n",
       "      <td>8.7</td>\n",
       "    </tr>\n",
       "    <tr>\n",
       "      <th>3</th>\n",
       "      <td>ART_AND_DESIGN</td>\n",
       "      <td>4.5</td>\n",
       "      <td>215644.0</td>\n",
       "      <td>Free</td>\n",
       "      <td>Teen</td>\n",
       "      <td>Art &amp; Design</td>\n",
       "      <td>2018</td>\n",
       "      <td>4.2</td>\n",
       "      <td>-1.0</td>\n",
       "      <td>0.0</td>\n",
       "      <td>50000000</td>\n",
       "      <td>25.0</td>\n",
       "    </tr>\n",
       "    <tr>\n",
       "      <th>4</th>\n",
       "      <td>ART_AND_DESIGN</td>\n",
       "      <td>4.3</td>\n",
       "      <td>967.0</td>\n",
       "      <td>Free</td>\n",
       "      <td>Everyone</td>\n",
       "      <td>Art &amp; Design;Creativity</td>\n",
       "      <td>2018</td>\n",
       "      <td>4.4</td>\n",
       "      <td>1.1</td>\n",
       "      <td>0.0</td>\n",
       "      <td>100000</td>\n",
       "      <td>2.8</td>\n",
       "    </tr>\n",
       "  </tbody>\n",
       "</table>\n",
       "</div>"
      ],
      "text/plain": [
       "               类别   评分        评论  收费情况        对象                         体裁  \\\n",
       "0  ART_AND_DESIGN  4.1     159.0  Free  Everyone               Art & Design   \n",
       "1  ART_AND_DESIGN  3.9     967.0  Free  Everyone  Art & Design;Pretend Play   \n",
       "2  ART_AND_DESIGN  4.7   87510.0  Free  Everyone               Art & Design   \n",
       "3  ART_AND_DESIGN  4.5  215644.0  Free      Teen               Art & Design   \n",
       "4  ART_AND_DESIGN  4.3     967.0  Free  Everyone    Art & Design;Creativity   \n",
       "\n",
       "     年份  手机版本  游戏版本   价格       安装量  应用大小  \n",
       "0  2018   4.0   1.0  0.0     10000  19.0  \n",
       "1  2018   4.0   2.0  0.0    500000  14.0  \n",
       "2  2018   4.0   1.2  0.0   5000000   8.7  \n",
       "3  2018   4.2  -1.0  0.0  50000000  25.0  \n",
       "4  2018   4.4   1.1  0.0    100000   2.8  "
      ]
     },
     "execution_count": 58,
     "metadata": {},
     "output_type": "execute_result"
    }
   ],
   "source": [
    "dt.head()"
   ]
  },
  {
   "cell_type": "code",
   "execution_count": 59,
   "metadata": {},
   "outputs": [],
   "source": [
    "dt_select = dt[dt.评分.isnull()==False]\n",
    "dt_select = dt_select[dt_select.手机版本.isnull()==False]\n",
    "dt_select = dt_select[dt_select.游戏版本.isnull()==False]\n",
    "dt_select = dt_select[dt_select.价格.isnull()==False]"
   ]
  },
  {
   "cell_type": "markdown",
   "metadata": {},
   "source": [
    "3.3先考察一下各个属性之间的相关性"
   ]
  },
  {
   "cell_type": "code",
   "execution_count": 60,
   "metadata": {},
   "outputs": [],
   "source": [
    "dt_select_cor = dt_select[dt_select.手机版本!=-1]\n",
    "dt_select_cor = dt_select[dt_select.游戏版本!=-1]"
   ]
  },
  {
   "cell_type": "code",
   "execution_count": 61,
   "metadata": {},
   "outputs": [
    {
     "name": "stdout",
     "output_type": "stream",
     "text": [
      "<class 'pandas.core.frame.DataFrame'>\n",
      "Int64Index: 9360 entries, 0 to 10840\n",
      "Data columns (total 12 columns):\n",
      "类别      9360 non-null object\n",
      "评分      9360 non-null float64\n",
      "评论      9360 non-null float64\n",
      "收费情况    9360 non-null object\n",
      "对象      9360 non-null object\n",
      "体裁      9360 non-null object\n",
      "年份      9360 non-null int64\n",
      "手机版本    9360 non-null float64\n",
      "游戏版本    9360 non-null float64\n",
      "价格      9360 non-null float64\n",
      "安装量     9360 non-null int64\n",
      "应用大小    9360 non-null float64\n",
      "dtypes: float64(6), int64(2), object(4)\n",
      "memory usage: 804.4+ KB\n"
     ]
    }
   ],
   "source": [
    "dt_select.info()"
   ]
  },
  {
   "cell_type": "code",
   "execution_count": 62,
   "metadata": {},
   "outputs": [],
   "source": [
    "#先看一下相关系数"
   ]
  },
  {
   "cell_type": "code",
   "execution_count": 63,
   "metadata": {},
   "outputs": [
    {
     "data": {
      "text/plain": [
       "<matplotlib.axes._subplots.AxesSubplot at 0x8033190>"
      ]
     },
     "execution_count": 63,
     "metadata": {},
     "output_type": "execute_result"
    },
    {
     "data": {
      "image/png": "[encoded data removed]",
      "text/plain": [
       "<Figure size 432x288 with 2 Axes>"
      ]
     },
     "metadata": {},
     "output_type": "display_data"
    }
   ],
   "source": [
    "sns.heatmap(dt_select_cor.corr())"
   ]
  },
  {
   "cell_type": "markdown",
   "metadata": {},
   "source": [
    "可以看审核和安装量的关系、年份和手机版本的相关性很大\n",
    "\n",
    "应用大小和审核、年份、手机版本也有一定的关系"
   ]
  },
  {
   "attachments": {},
   "cell_type": "markdown",
   "metadata": {},
   "source": [
    "3.4各类别app占比情况"
   ]
  },
  {
   "cell_type": "code",
   "execution_count": 65,
   "metadata": {},
   "outputs": [],
   "source": [
    "vv= list(dt_select.类别.value_counts()[:8].values)\n",
    "vv.append(dt_select.类别.value_counts()[8:].sum())\n",
    "nn= list(dt_select.类别.value_counts()[:8].index)\n",
    "nn.append('OTHER')"
   ]
  },
  {
   "cell_type": "code",
   "execution_count": 66,
   "metadata": {},
   "outputs": [
    {
     "data": {
      "text/plain": [
       "Text(0.5,1,'Category distribution--pie')"
      ]
     },
     "execution_count": 66,
     "metadata": {},
     "output_type": "execute_result"
    },
    {
     "data": {
      "image/png": "[encoded data removed]",
      "text/plain": [
       "<Figure size 720x720 with 1 Axes>"
      ]
     },
     "metadata": {},
     "output_type": "display_data"
    }
   ],
   "source": [
    "labels = nn\n",
    "sizes = vv\n",
    "explode = (0.1, 0, 0, 0, 0, 0, 0,0,0)  \n",
    "\n",
    "fig1, ax1 = plt.subplots(figsize=(10,10))\n",
    "ax1.pie(sizes, explode=explode, labels=labels, autopct='%1.1f%%',\n",
    "        shadow=True, startangle=90)\n",
    "ax1.axis('equal') \n",
    "\n",
    "plt.title(s=\"Category distribution--pie\")"
   ]
  },
  {
   "cell_type": "markdown",
   "metadata": {},
   "source": [
    "结论1：\n",
    "\n",
    "Google play 中Familly 类app数量最多，\n",
    "\n",
    "排名前3的类别 Family，GAME，TOOLS"
   ]
  },
  {
   "cell_type": "markdown",
   "metadata": {},
   "source": [
    "所有类别的数量情况分布"
   ]
  },
  {
   "cell_type": "code",
   "execution_count": 67,
   "metadata": {},
   "outputs": [
    {
     "data": {
      "text/plain": [
       "Text(0,0.5,'Quantity')"
      ]
     },
     "execution_count": 67,
     "metadata": {},
     "output_type": "execute_result"
    },
    {
     "data": {
      "image/png": "[encoded data removed]",
      "text/plain": [
       "<Figure size 1224x360 with 1 Axes>"
      ]
     },
     "metadata": {},
     "output_type": "display_data"
    }
   ],
   "source": [
    "v2 = list(dt.类别.value_counts().values)\n",
    "n2 = list(dt.类别.value_counts().index)\n",
    "\n",
    "fig1, ax1 = plt.subplots(figsize=(17,5))\n",
    "ax1.bar(n2,v2,width=0.7)\n",
    "plt.xticks(rotation=90)\n",
    "plt.title(s='Category distribution--bar')\n",
    "plt.ylabel('Quantity')"
   ]
  },
  {
   "attachments": {},
   "cell_type": "markdown",
   "metadata": {},
   "source": [
    "3.5用户评分分布情况"
   ]
  },
  {
   "cell_type": "code",
   "execution_count": 68,
   "metadata": {},
   "outputs": [],
   "source": [
    "dt_score_fill_with_minus_one = dt.评分.fillna(-1)"
   ]
  },
  {
   "cell_type": "code",
   "execution_count": 69,
   "metadata": {},
   "outputs": [
    {
     "data": {
      "text/plain": [
       "<matplotlib.axes._subplots.AxesSubplot at 0x801e330>"
      ]
     },
     "execution_count": 69,
     "metadata": {},
     "output_type": "execute_result"
    },
    {
     "data": {
      "image/png": "[encoded data removed]",
      "text/plain": [
       "<Figure size 576x432 with 1 Axes>"
      ]
     },
     "metadata": {},
     "output_type": "display_data"
    }
   ],
   "source": [
    "fig, axes = plt.subplots(1,1,figsize=(8,6))\n",
    "sns.kdeplot(dt_score_fill_with_minus_one, ax = axes, shade=True)"
   ]
  },
  {
   "cell_type": "markdown",
   "metadata": {},
   "source": [
    "结论2\n",
    "\n",
    "App评分分布情况，集中分布在4~5之间，  -1表示没有评分，可以看到有相当多一部分没有评分"
   ]
  },
  {
   "cell_type": "markdown",
   "metadata": {},
   "source": [
    "3.6各类别用户评分分布情况"
   ]
  },
  {
   "cell_type": "code",
   "execution_count": 70,
   "metadata": {},
   "outputs": [
    {
     "data": {
      "text/plain": [
       "(array([ 0,  1,  2,  3,  4,  5,  6,  7,  8,  9, 10, 11, 12, 13, 14, 15, 16,\n",
       "        17, 18, 19, 20, 21, 22, 23, 24, 25, 26, 27, 28, 29, 30, 31, 32, 33]),\n",
       " <a list of 34 Text xticklabel objects>)"
      ]
     },
     "execution_count": 70,
     "metadata": {},
     "output_type": "execute_result"
    },
    {
     "data": {
      "image/png": "[encoded data removed]",
      "text/plain": [
       "<Figure size 1080x432 with 1 Axes>"
      ]
     },
     "metadata": {},
     "output_type": "display_data"
    }
   ],
   "source": [
    "fig, axes = plt.subplots(1,1,figsize=(15,6))\n",
    "sns.boxplot(x=dt.类别, y=dt.评分, data=dt)\n",
    "plt.xticks(rotation=90)"
   ]
  },
  {
   "cell_type": "markdown",
   "metadata": {},
   "source": [
    "结论3\n",
    "\n",
    "各个类别的评分情况，可以看到LIFESTYLE 、TOOLS类别低分较多\n",
    "\n",
    "LIFESTYLE断层明显，可能是刷分情况"
   ]
  },
  {
   "cell_type": "markdown",
   "metadata": {},
   "source": [
    "3.7评分变化和时间趋势"
   ]
  },
  {
   "cell_type": "code",
   "execution_count": 71,
   "metadata": {},
   "outputs": [
    {
     "data": {
      "text/plain": [
       "<seaborn.axisgrid.JointGrid at 0xbff8330>"
      ]
     },
     "execution_count": 71,
     "metadata": {},
     "output_type": "execute_result"
    },
    {
     "data": {
      "image/png": "[encoded data removed]",
      "text/plain": [
       "<Figure size 432x432 with 3 Axes>"
      ]
     },
     "metadata": {},
     "output_type": "display_data"
    }
   ],
   "source": [
    "sns.jointplot(dt.年份, dt.评分, kind=\"kde\")"
   ]
  },
  {
   "cell_type": "markdown",
   "metadata": {},
   "source": [
    "结论4\n",
    "\n",
    "评分数随时间推移增加，而且2018年评分数大幅度增加，\n",
    "大部评分分布在4.3分左右"
   ]
  },
  {
   "attachments": {},
   "cell_type": "markdown",
   "metadata": {},
   "source": [
    "3.8免/付费app数量变化趋势"
   ]
  },
  {
   "cell_type": "code",
   "execution_count": 72,
   "metadata": {},
   "outputs": [
    {
     "data": {
      "text/plain": [
       "<matplotlib.axes._subplots.AxesSubplot at 0xbf225f0>"
      ]
     },
     "execution_count": 72,
     "metadata": {},
     "output_type": "execute_result"
    },
    {
     "data": {
      "image/png": "[encoded data removed]",
      "text/plain": [
       "<Figure size 720x432 with 1 Axes>"
      ]
     },
     "metadata": {},
     "output_type": "display_data"
    }
   ],
   "source": [
    "fig, axes = plt.subplots(1,1,figsize=(10,6))\n",
    "sns.violinplot(dt.收费情况, dt.年份)"
   ]
  },
  {
   "attachments": {},
   "cell_type": "markdown",
   "metadata": {},
   "source": [
    "结论5\n",
    "\n",
    "这里得到了很多信息：\n",
    "\n",
    "2010年前play store上只有免费软件\n",
    "\n",
    "2010年后开始出现付费形式（可能是刚开始引入付费机制）\n",
    "\n",
    "2012年前免费和付费app数量相当\n",
    "\n",
    "2017年前付费app数量多于免费，且数量增长稳定上升\n",
    "\n",
    "2018年免费app数量突增"
   ]
  },
  {
   "cell_type": "markdown",
   "metadata": {},
   "source": [
    "3.9免/付费最受欢迎app类别"
   ]
  },
  {
   "cell_type": "code",
   "execution_count": 73,
   "metadata": {},
   "outputs": [],
   "source": [
    "pop_in_free = dt[dt.收费情况=='Free'].groupby('类别')['安装量'].sum()\n",
    "pop_in_paid = dt[dt.收费情况=='Paid'].groupby('类别')['安装量'].sum()\n",
    "\n",
    "pop_in_free = pop_in_free.sort_values(ascending=False)\n",
    "pop_in_paid = pop_in_paid.sort_values(ascending=False)"
   ]
  },
  {
   "cell_type": "code",
   "execution_count": 74,
   "metadata": {},
   "outputs": [
    {
     "data": {
      "text/plain": [
       "<matplotlib.legend.Legend at 0xc591c30>"
      ]
     },
     "execution_count": 74,
     "metadata": {},
     "output_type": "execute_result"
    },
    {
     "data": {
      "image/png": "[encoded data removed]",
      "text/plain": [
       "<Figure size 1296x576 with 2 Axes>"
      ]
     },
     "metadata": {},
     "output_type": "display_data"
    }
   ],
   "source": [
    "fig, axes = plt.subplots(1,2,figsize=(18,8))\n",
    "\n",
    "\n",
    "axe1 = plt.subplot(1,2,1)\n",
    "plt.bar(pop_in_free.index,pop_in_free.values,label='Free')\n",
    "plt.xticks(rotation=90)\n",
    "\n",
    "plt.legend()\n",
    "\n",
    "\n",
    "axe2 = plt.subplot(1,2,2)\n",
    "plt.bar(pop_in_paid.index,pop_in_paid.values,label='Paid')\n",
    "plt.xticks(rotation=90)\n",
    "plt.legend()"
   ]
  },
  {
   "cell_type": "markdown",
   "metadata": {},
   "source": [
    "结论6\n",
    "\n",
    "免费应用最受欢迎的top3：GAME、FAMILY、COMMUNICATION\n",
    "\n",
    "付费应用最受欢迎的top3：GAME、FAMILY、PERSONALIZATION"
   ]
  },
  {
   "cell_type": "markdown",
   "metadata": {},
   "source": [
    "3.10 App数量 免费与付费的对比"
   ]
  },
  {
   "cell_type": "code",
   "execution_count": 75,
   "metadata": {},
   "outputs": [
    {
     "name": "stderr",
     "output_type": "stream",
     "text": [
      "C:\\ProgramData\\Anaconda3\\lib\\site-packages\\ipykernel_launcher.py:13: FutureWarning: Sorting because non-concatenation axis is not aligned. A future version\n",
      "of pandas will change to not sort by default.\n",
      "\n",
      "To accept the future behavior, pass 'sort=True'.\n",
      "\n",
      "To retain the current behavior and silence the warning, pass sort=False\n",
      "\n",
      "  del sys.path[0]\n"
     ]
    },
    {
     "data": {
      "text/plain": [
       "Text(0,0.5,'Quantity')"
      ]
     },
     "execution_count": 75,
     "metadata": {},
     "output_type": "execute_result"
    },
    {
     "data": {
      "image/png": "[encoded data removed]",
      "text/plain": [
       "<Figure size 1296x576 with 1 Axes>"
      ]
     },
     "metadata": {},
     "output_type": "display_data"
    }
   ],
   "source": [
    "DT_Free = dt[dt.收费情况=='Free']\n",
    "DT_Paid = dt[dt.收费情况=='Paid']\n",
    "\n",
    "a=DT_Free.类别.value_counts()\n",
    "b=DT_Paid.类别.value_counts()\n",
    "\n",
    "a = pd.DataFrame(a)  #33 rows\n",
    "b = pd.DataFrame(b)  #30 rows\n",
    "\n",
    "a.rename({'类别':'Free'},axis=1,inplace=True)\n",
    "b.rename({'类别':'Paid'},axis=1,inplace=True)\n",
    "\n",
    "joined = pd.concat([a,b],axis=1)\n",
    "\n",
    "joined.Free.fillna(0,inplace=True)\n",
    "joined.Paid.fillna(0,inplace=True)\n",
    "\n",
    "ind = joined.Free.sort_values(ascending=False)\n",
    "joined_sorted_by_Free = joined.loc[list(ind.index)]\n",
    "\n",
    "aH_s=list(joined_sorted_by_Free.Free.values)\n",
    "bH_s=list(joined_sorted_by_Free.Paid.values)\n",
    "ax_s=list(joined_sorted_by_Free.index)\n",
    "\n",
    "\n",
    "\n",
    "\n",
    "fig, axes = plt.subplots(1,1,figsize=(18,8))\n",
    "\n",
    "\n",
    "axes.bar(ax_s,aH_s,width=0.7,label='Free')\n",
    "plt.xticks(rotation=90)\n",
    "\n",
    "axes.bar(ax_s,bH_s,width=0.7,bottom=aH_s,label='Paid')\n",
    "plt.xticks(rotation=90)\n",
    "\n",
    "axes.legend()\n",
    "\n",
    "plt.title(s='Category quantity~Type')\n",
    "plt.ylabel('Quantity')"
   ]
  },
  {
   "cell_type": "markdown",
   "metadata": {},
   "source": [
    "结论7\n",
    "\n",
    "FAMILY类别下app最多；免费app数量大大多于付费app\n"
   ]
  },
  {
   "cell_type": "markdown",
   "metadata": {},
   "source": [
    "3.11 Android版本数量分布和随时间变化"
   ]
  },
  {
   "cell_type": "code",
   "execution_count": 90,
   "metadata": {},
   "outputs": [
    {
     "name": "stderr",
     "output_type": "stream",
     "text": [
      "C:\\ProgramData\\Anaconda3\\lib\\site-packages\\matplotlib\\axes\\_axes.py:6462: UserWarning: The 'normed' kwarg is deprecated, and has been replaced by the 'density' kwarg.\n",
      "  warnings.warn(\"The 'normed' kwarg is deprecated, and has been \"\n",
      "C:\\ProgramData\\Anaconda3\\lib\\site-packages\\matplotlib\\axes\\_axes.py:6462: UserWarning: The 'normed' kwarg is deprecated, and has been replaced by the 'density' kwarg.\n",
      "  warnings.warn(\"The 'normed' kwarg is deprecated, and has been \"\n"
     ]
    },
    {
     "data": {
      "text/plain": [
       "<seaborn.axisgrid.JointGrid at 0x3b14370>"
      ]
     },
     "execution_count": 90,
     "metadata": {},
     "output_type": "execute_result"
    },
    {
     "data": {
      "image/png": "[encoded data removed]",
      "text/plain": [
       "<Figure size 432x432 with 3 Axes>"
      ]
     },
     "metadata": {},
     "output_type": "display_data"
    }
   ],
   "source": [
    "dts_Y_Ph = dt_select.loc[:,['年份','手机版本']]\n",
    "sns.jointplot(\"年份\", \"手机版本\", dts_Y_Ph)  "
   ]
  },
  {
   "cell_type": "markdown",
   "metadata": {},
   "source": [
    "结论8\n",
    "\n",
    "Android版本、数量随年代而升级\n",
    "\n",
    "4代版本数量最多"
   ]
  },
  {
   "cell_type": "markdown",
   "metadata": {},
   "source": [
    "3.12 各版本免/付费app的装机量"
   ]
  },
  {
   "cell_type": "code",
   "execution_count": 77,
   "metadata": {},
   "outputs": [
    {
     "data": {
      "text/plain": [
       "Text(0,0.5,'Install')"
      ]
     },
     "execution_count": 77,
     "metadata": {},
     "output_type": "execute_result"
    },
    {
     "data": {
      "image/png": "[encoded data removed]",
      "text/plain": [
       "<Figure size 1296x576 with 2 Axes>"
      ]
     },
     "metadata": {},
     "output_type": "display_data"
    }
   ],
   "source": [
    "core1=dt_select.groupby(['收费情况','手机版本']).安装量.sum()\n",
    "\n",
    "\n",
    "xF=core1.xs('Free').index\n",
    "yF=core1.xs('Free').values\n",
    "xP=core1.xs('Paid').index\n",
    "yP=core1.xs('Paid').values\n",
    "\n",
    "fig, axes = plt.subplots(1,2,figsize=(18,8))\n",
    "\n",
    "axes1 = plt.subplot(1,2,1)\n",
    "plt.bar(xF,yF,width=0.7,label='Free')\n",
    "plt.xticks(rotation=90)\n",
    "plt.legend()\n",
    "plt.xlabel('Phone_ver')\n",
    "plt.ylabel('Install')\n",
    "\n",
    "axes2 = plt.subplot(1,2,2,sharex=axes1)   #sharex放的位置   \n",
    "plt.bar(xP,yP,width=0.7,label='Paid')\n",
    "plt.xticks(rotation=90)\n",
    "plt.legend()\n",
    "plt.xlabel('Phone_ver')\n",
    "plt.ylabel('Install')"
   ]
  },
  {
   "cell_type": "markdown",
   "metadata": {},
   "source": [
    "结论9\n",
    "\n",
    "Android 4.0 装机量最多\n",
    "\n",
    "付费app中支持Android 2.0的比例大大高于免费版\n"
   ]
  },
  {
   "cell_type": "markdown",
   "metadata": {},
   "source": [
    "四、结论分析和建议\n",
    "\n",
    "挖掘的信息：\n",
    "\n",
    "1、app数量最多top3  Family，GAME，TOOLS\n",
    "\n",
    "2、评分分布在4~5之间\n",
    "\n",
    "3、LIFESTYLE可能存在刷分情况\n",
    "\n",
    "4、2010年开始play store开始出现付费app\n",
    "\n",
    "5、2012年前免费和付费app数量相当\n",
    "\n",
    "6、2017年前付费app数量多于免费，且数量增长稳定上升\n",
    "\n",
    "7、2018年免费app数量突增\n",
    "\n",
    "8、免费最受欢迎类别top3：GAME、FAMILY、COMMUNICATION\n",
    "\n",
    "9、付费最受欢迎类别top3：GAME、FAMILY、PERSONALIZATION\n",
    "\n",
    "10、Android 4.0 数量、装机量最多\n",
    "\n",
    "11、付费app中支持Android 2.0的数量大大多于免费版\n",
    "\n",
    "分析：\n",
    "\n",
    "从app的数量分布来看，游戏和家庭类app的数量最多，而分别从免费和付费领域看，也是这两类数量最多，说明这两类应不论免费与否都是很有需求的。\n",
    "\n",
    "评分分布整体较高，说明大家都乐于给出高分，不存在恶性差评，但同时也反应了评分可信度不高。\n",
    "\n",
    "分析得出LIFESTYLE类别评分不呈现连续性，可能存在刷分情况。\n",
    "\n",
    "从时间上看，google store在2010年才出现付费app，说明这个时间点刚开始引入付费app的形式。\n",
    "\n",
    "和我的预设不同的是，2017年前付费应用竟然是主力，而免费应用后来的追赶之势很迅猛。\n",
    "\n",
    "大多数应用的平台版本可以兼容4.0，而付费应用中，有很大数量还能兼容2.0。\n"
   ]
  },
  {
   "cell_type": "markdown",
   "metadata": {},
   "source": [
    "建议：如果要开发出一款较受欢迎的app，可以选择需求较高的家庭或游戏类应用，要能适配Android系统版本最低4.0。"
   ]
  },
  {
   "cell_type": "markdown",
   "metadata": {},
   "source": [
    "五、思考与总结\n",
    "\n",
    "这次的数据分析还有一些可以进一步的挖掘空间。比如app应用名称，可以进行语义的分析，看出现关键词最多的是哪几个，它们和下载量、评分之间又有什么关系。这样对于给出制作出畅销app的建议会更加有帮助。"
   ]
  },
  {
   "cell_type": "code",
   "execution_count": null,
   "metadata": {},
   "outputs": [],
   "source": [
    "作者：黄俊杰"
   ]
  }
 ],
 "metadata": {
  "kernelspec": {
   "display_name": "Python 3",
   "language": "python",
   "name": "python3"
  },
  "language_info": {
   "codemirror_mode": {
    "name": "ipython",
    "version": 3
   },
   "file_extension": ".py",
   "mimetype": "text/x-python",
   "name": "python",
   "nbconvert_exporter": "python",
   "pygments_lexer": "ipython3",
   "version": "3.6.5"
  }
 },
 "nbformat": 4,
 "nbformat_minor": 2
}
